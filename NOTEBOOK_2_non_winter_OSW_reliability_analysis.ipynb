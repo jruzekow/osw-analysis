{
  "nbformat": 4,
  "nbformat_minor": 0,
  "metadata": {
    "colab": {
      "provenance": [],
      "include_colab_link": true
    },
    "kernelspec": {
      "name": "python3",
      "display_name": "Python 3"
    },
    "language_info": {
      "name": "python"
    }
  },
  "cells": [
    {
      "cell_type": "markdown",
      "metadata": {
        "id": "view-in-github",
        "colab_type": "text"
      },
      "source": [
        "<a href=\"https://colab.research.google.com/github/jruzekow/osw-analysis/blob/main/NOTEBOOK_2_non_winter_OSW_reliability_analysis.ipynb\" target=\"_parent\"><img src=\"https://colab.research.google.com/assets/colab-badge.svg\" alt=\"Open In Colab\"/></a>"
      ]
    },
    {
      "cell_type": "markdown",
      "source": [
        "# Notebook 2 for ISONE (non-winter) OSW Analysis\n",
        "Building on notebook 1, this notebook is designed to perform similar analysis with non-winter months. It is largely the same as notebook 1 in this series, except it selects non-winter months. **Part 4** is the only section that changes to select non-winter months, March-November."
      ],
      "metadata": {
        "id": "cEKyy7V9h1K4"
      }
    },
    {
      "cell_type": "markdown",
      "source": [
        "**Part 1:**\n",
        "Following the same proceedure as notebook 1,  to run this notebook as-is:\n",
        "\n",
        "\n",
        "*   Navigate to the ISONE website: https://www.iso-ne.com/system-planning/planning-models-and-data/variable-energy-resource-data\n",
        "*   Find the zip folder \"**2023 ISO-NE Variable Energy Resource (VER) Data Series (2000-2022) Rev. 0**\", download and unzip\n",
        "*   Naviagate to the \"wind\" folder to find the file **2023_ISONE_Wind_ofsw_Aggregated_Power_Data_2000-2022_NetPwrTS.csv**\n",
        "*   Navigate to the \"load\" folder to find the file **ISONE_grossload_metdata_spliced_23yr_EPT.csv**"
      ],
      "metadata": {
        "id": "_RF8tDtENAFC"
      }
    },
    {
      "cell_type": "code",
      "execution_count": null,
      "metadata": {
        "colab": {
          "base_uri": "https://localhost:8080/",
          "height": 73
        },
        "id": "BmEdYfFYMyfw",
        "outputId": "ac07c30c-9504-416d-954e-727b3624f993"
      },
      "outputs": [
        {
          "output_type": "display_data",
          "data": {
            "text/plain": [
              "<IPython.core.display.HTML object>"
            ],
            "text/html": [
              "\n",
              "     <input type=\"file\" id=\"files-a477dccd-01ae-4b27-8f33-0eafdaa6f93c\" name=\"files[]\" multiple disabled\n",
              "        style=\"border:none\" />\n",
              "     <output id=\"result-a477dccd-01ae-4b27-8f33-0eafdaa6f93c\">\n",
              "      Upload widget is only available when the cell has been executed in the\n",
              "      current browser session. Please rerun this cell to enable.\n",
              "      </output>\n",
              "      <script>// Copyright 2017 Google LLC\n",
              "//\n",
              "// Licensed under the Apache License, Version 2.0 (the \"License\");\n",
              "// you may not use this file except in compliance with the License.\n",
              "// You may obtain a copy of the License at\n",
              "//\n",
              "//      http://www.apache.org/licenses/LICENSE-2.0\n",
              "//\n",
              "// Unless required by applicable law or agreed to in writing, software\n",
              "// distributed under the License is distributed on an \"AS IS\" BASIS,\n",
              "// WITHOUT WARRANTIES OR CONDITIONS OF ANY KIND, either express or implied.\n",
              "// See the License for the specific language governing permissions and\n",
              "// limitations under the License.\n",
              "\n",
              "/**\n",
              " * @fileoverview Helpers for google.colab Python module.\n",
              " */\n",
              "(function(scope) {\n",
              "function span(text, styleAttributes = {}) {\n",
              "  const element = document.createElement('span');\n",
              "  element.textContent = text;\n",
              "  for (const key of Object.keys(styleAttributes)) {\n",
              "    element.style[key] = styleAttributes[key];\n",
              "  }\n",
              "  return element;\n",
              "}\n",
              "\n",
              "// Max number of bytes which will be uploaded at a time.\n",
              "const MAX_PAYLOAD_SIZE = 100 * 1024;\n",
              "\n",
              "function _uploadFiles(inputId, outputId) {\n",
              "  const steps = uploadFilesStep(inputId, outputId);\n",
              "  const outputElement = document.getElementById(outputId);\n",
              "  // Cache steps on the outputElement to make it available for the next call\n",
              "  // to uploadFilesContinue from Python.\n",
              "  outputElement.steps = steps;\n",
              "\n",
              "  return _uploadFilesContinue(outputId);\n",
              "}\n",
              "\n",
              "// This is roughly an async generator (not supported in the browser yet),\n",
              "// where there are multiple asynchronous steps and the Python side is going\n",
              "// to poll for completion of each step.\n",
              "// This uses a Promise to block the python side on completion of each step,\n",
              "// then passes the result of the previous step as the input to the next step.\n",
              "function _uploadFilesContinue(outputId) {\n",
              "  const outputElement = document.getElementById(outputId);\n",
              "  const steps = outputElement.steps;\n",
              "\n",
              "  const next = steps.next(outputElement.lastPromiseValue);\n",
              "  return Promise.resolve(next.value.promise).then((value) => {\n",
              "    // Cache the last promise value to make it available to the next\n",
              "    // step of the generator.\n",
              "    outputElement.lastPromiseValue = value;\n",
              "    return next.value.response;\n",
              "  });\n",
              "}\n",
              "\n",
              "/**\n",
              " * Generator function which is called between each async step of the upload\n",
              " * process.\n",
              " * @param {string} inputId Element ID of the input file picker element.\n",
              " * @param {string} outputId Element ID of the output display.\n",
              " * @return {!Iterable<!Object>} Iterable of next steps.\n",
              " */\n",
              "function* uploadFilesStep(inputId, outputId) {\n",
              "  const inputElement = document.getElementById(inputId);\n",
              "  inputElement.disabled = false;\n",
              "\n",
              "  const outputElement = document.getElementById(outputId);\n",
              "  outputElement.innerHTML = '';\n",
              "\n",
              "  const pickedPromise = new Promise((resolve) => {\n",
              "    inputElement.addEventListener('change', (e) => {\n",
              "      resolve(e.target.files);\n",
              "    });\n",
              "  });\n",
              "\n",
              "  const cancel = document.createElement('button');\n",
              "  inputElement.parentElement.appendChild(cancel);\n",
              "  cancel.textContent = 'Cancel upload';\n",
              "  const cancelPromise = new Promise((resolve) => {\n",
              "    cancel.onclick = () => {\n",
              "      resolve(null);\n",
              "    };\n",
              "  });\n",
              "\n",
              "  // Wait for the user to pick the files.\n",
              "  const files = yield {\n",
              "    promise: Promise.race([pickedPromise, cancelPromise]),\n",
              "    response: {\n",
              "      action: 'starting',\n",
              "    }\n",
              "  };\n",
              "\n",
              "  cancel.remove();\n",
              "\n",
              "  // Disable the input element since further picks are not allowed.\n",
              "  inputElement.disabled = true;\n",
              "\n",
              "  if (!files) {\n",
              "    return {\n",
              "      response: {\n",
              "        action: 'complete',\n",
              "      }\n",
              "    };\n",
              "  }\n",
              "\n",
              "  for (const file of files) {\n",
              "    const li = document.createElement('li');\n",
              "    li.append(span(file.name, {fontWeight: 'bold'}));\n",
              "    li.append(span(\n",
              "        `(${file.type || 'n/a'}) - ${file.size} bytes, ` +\n",
              "        `last modified: ${\n",
              "            file.lastModifiedDate ? file.lastModifiedDate.toLocaleDateString() :\n",
              "                                    'n/a'} - `));\n",
              "    const percent = span('0% done');\n",
              "    li.appendChild(percent);\n",
              "\n",
              "    outputElement.appendChild(li);\n",
              "\n",
              "    const fileDataPromise = new Promise((resolve) => {\n",
              "      const reader = new FileReader();\n",
              "      reader.onload = (e) => {\n",
              "        resolve(e.target.result);\n",
              "      };\n",
              "      reader.readAsArrayBuffer(file);\n",
              "    });\n",
              "    // Wait for the data to be ready.\n",
              "    let fileData = yield {\n",
              "      promise: fileDataPromise,\n",
              "      response: {\n",
              "        action: 'continue',\n",
              "      }\n",
              "    };\n",
              "\n",
              "    // Use a chunked sending to avoid message size limits. See b/62115660.\n",
              "    let position = 0;\n",
              "    do {\n",
              "      const length = Math.min(fileData.byteLength - position, MAX_PAYLOAD_SIZE);\n",
              "      const chunk = new Uint8Array(fileData, position, length);\n",
              "      position += length;\n",
              "\n",
              "      const base64 = btoa(String.fromCharCode.apply(null, chunk));\n",
              "      yield {\n",
              "        response: {\n",
              "          action: 'append',\n",
              "          file: file.name,\n",
              "          data: base64,\n",
              "        },\n",
              "      };\n",
              "\n",
              "      let percentDone = fileData.byteLength === 0 ?\n",
              "          100 :\n",
              "          Math.round((position / fileData.byteLength) * 100);\n",
              "      percent.textContent = `${percentDone}% done`;\n",
              "\n",
              "    } while (position < fileData.byteLength);\n",
              "  }\n",
              "\n",
              "  // All done.\n",
              "  yield {\n",
              "    response: {\n",
              "      action: 'complete',\n",
              "    }\n",
              "  };\n",
              "}\n",
              "\n",
              "scope.google = scope.google || {};\n",
              "scope.google.colab = scope.google.colab || {};\n",
              "scope.google.colab._files = {\n",
              "  _uploadFiles,\n",
              "  _uploadFilesContinue,\n",
              "};\n",
              "})(self);\n",
              "</script> "
            ]
          },
          "metadata": {}
        },
        {
          "output_type": "stream",
          "name": "stdout",
          "text": [
            "Saving 2023_ISONE_Wind_ofsw_Aggregated_Power_Data_2000-2022_NetPwrTS.csv to 2023_ISONE_Wind_ofsw_Aggregated_Power_Data_2000-2022_NetPwrTS.csv\n"
          ]
        }
      ],
      "source": [
        "#Step 1: Upload the offshore wind file when prompted, it should match the file listed below.\n",
        "from google.colab import files\n",
        "uploaded = files.upload()"
      ]
    },
    {
      "cell_type": "code",
      "source": [
        "#Step 2: Read the CSV file into a dataframe for management/cleaning.\n",
        "\n",
        "import pandas as pd\n",
        "df = pd.read_csv('2023_ISONE_Wind_ofsw_Aggregated_Power_Data_2000-2022_NetPwrTS.csv')\n",
        "\n",
        "#Step 3: Display the first few rows of the dataframe and confirm it is the right data.\n",
        "print(df.head())\n"
      ],
      "metadata": {
        "id": "_qvuJLfdSIzV",
        "colab": {
          "base_uri": "https://localhost:8080/"
        },
        "outputId": "21776623-4a1b-4851-896c-a605ffde49d5"
      },
      "execution_count": null,
      "outputs": [
        {
          "output_type": "stream",
          "name": "stdout",
          "text": [
            "      LZ        Date  Year  Month  Day  yr_day  yr_wk day_type     HE1  \\\n",
            "0  ISONE  01/01/2000  2000      1    1       1      0       WE  0.1182   \n",
            "1  ISONE  01/02/2000  2000      1    2       2      1       WE  0.6034   \n",
            "2  ISONE  01/03/2000  2000      1    3       3      1       WD  0.9358   \n",
            "3  ISONE  01/04/2000  2000      1    4       4      1       WD  0.6101   \n",
            "4  ISONE  01/05/2000  2000      1    5       5      1       WD  0.9231   \n",
            "\n",
            "      HE2  ...    HE15    HE16    HE17    HE18    HE19    HE20    HE21  \\\n",
            "0  0.1128  ...  0.7474  0.8130  0.8483  0.8691  0.8735  0.8513  0.8644   \n",
            "1  0.4819  ...  0.8502  0.8597  0.8855  0.9102  0.9183  0.9264  0.9357   \n",
            "2  0.9369  ...  0.3960  0.3264  0.2228  0.1880  0.2142  0.2552  0.2616   \n",
            "3  0.7262  ...  0.8515  0.7099  0.6723  0.6208  0.6287  0.5647  0.5804   \n",
            "4  0.9075  ...  0.9225  0.9190  0.9028  0.8953  0.8761  0.8874  0.8830   \n",
            "\n",
            "     HE22    HE23    HE24  \n",
            "0  0.8359  0.7853  0.7326  \n",
            "1  0.9347  0.9372  0.9372  \n",
            "2  0.3077  0.3615  0.4225  \n",
            "3  0.7389  0.8130  0.9185  \n",
            "4  0.8358  0.7761  0.7067  \n",
            "\n",
            "[5 rows x 32 columns]\n"
          ]
        }
      ]
    },
    {
      "cell_type": "code",
      "source": [
        "#Step 4: Create a new dataframe, \"wind_data\" with just the information we want.\n",
        "\n",
        "#First, change the \"Date\" column in the original dataframe to \"datetime\" format.\n",
        "df['Date'] = pd.to_datetime(df['Date'])\n",
        "\n",
        "#Next, create a new dataframe named \"wind_data\" to copy over just the columns we want.\n",
        "wind_data = pd.DataFrame()\n",
        "\n",
        "#Then, copy over the date column, which we have already put in datetime format!\n",
        "wind_data['Date'] = df['Date'].copy()\n",
        "\n",
        "#Finally, sum together the CP for every hour of the wind data, then add that as a column to our new dataframe as \"Net CP for Turbines\".\n",
        "wind_data['Net CP for Turbines'] = sum([df['HE1'], df['HE2'], df['HE3'], df['HE4'], df['HE5'],\n",
        "                                        df['HE6'], df['HE7'], df['HE8'], df['HE9'], df['HE10'],\n",
        "                                        df['HE11'], df['HE12'], df['HE13'], df['HE14'], df['HE15'],\n",
        "                                        df['HE16'], df['HE17'], df['HE18'], df['HE19'], df['HE20'],\n",
        "                                        df['HE21'], df['HE22'], df['HE23'], df['HE24']])\n",
        "\n",
        "#We can print the new dataframe to make sure we have what we want!\n",
        "print(wind_data)"
      ],
      "metadata": {
        "colab": {
          "base_uri": "https://localhost:8080/"
        },
        "id": "aEI_DHgwWhlv",
        "outputId": "e64462c1-3d6b-4b91-8d93-30123e93d657"
      },
      "execution_count": null,
      "outputs": [
        {
          "output_type": "stream",
          "name": "stdout",
          "text": [
            "           Date  Net CP for Turbines\n",
            "0    2000-01-01              11.9738\n",
            "1    2000-01-02              16.2638\n",
            "2    2000-01-03              15.3354\n",
            "3    2000-01-04              19.2895\n",
            "4    2000-01-05              21.4297\n",
            "...         ...                  ...\n",
            "8396 2022-12-27              10.5740\n",
            "8397 2022-12-28               9.0555\n",
            "8398 2022-12-29              14.4821\n",
            "8399 2022-12-30              14.4530\n",
            "8400 2022-12-31              13.8022\n",
            "\n",
            "[8401 rows x 2 columns]\n"
          ]
        }
      ]
    },
    {
      "cell_type": "markdown",
      "source": [
        "**Part 2:** Read in and clean/format the load data!"
      ],
      "metadata": {
        "id": "M4DqeqVpbgCH"
      }
    },
    {
      "cell_type": "code",
      "source": [
        "#Step 1: Upload the load file when prompted, it should match the file listed below.\n",
        "from google.colab import files\n",
        "uploaded = files.upload()"
      ],
      "metadata": {
        "colab": {
          "base_uri": "https://localhost:8080/",
          "height": 73
        },
        "id": "hxiuV75UY1gk",
        "outputId": "02194e93-46d3-4f03-cede-ac7a51252c1d"
      },
      "execution_count": null,
      "outputs": [
        {
          "output_type": "display_data",
          "data": {
            "text/plain": [
              "<IPython.core.display.HTML object>"
            ],
            "text/html": [
              "\n",
              "     <input type=\"file\" id=\"files-2c9825d2-4a59-4b07-801d-7b9326e107de\" name=\"files[]\" multiple disabled\n",
              "        style=\"border:none\" />\n",
              "     <output id=\"result-2c9825d2-4a59-4b07-801d-7b9326e107de\">\n",
              "      Upload widget is only available when the cell has been executed in the\n",
              "      current browser session. Please rerun this cell to enable.\n",
              "      </output>\n",
              "      <script>// Copyright 2017 Google LLC\n",
              "//\n",
              "// Licensed under the Apache License, Version 2.0 (the \"License\");\n",
              "// you may not use this file except in compliance with the License.\n",
              "// You may obtain a copy of the License at\n",
              "//\n",
              "//      http://www.apache.org/licenses/LICENSE-2.0\n",
              "//\n",
              "// Unless required by applicable law or agreed to in writing, software\n",
              "// distributed under the License is distributed on an \"AS IS\" BASIS,\n",
              "// WITHOUT WARRANTIES OR CONDITIONS OF ANY KIND, either express or implied.\n",
              "// See the License for the specific language governing permissions and\n",
              "// limitations under the License.\n",
              "\n",
              "/**\n",
              " * @fileoverview Helpers for google.colab Python module.\n",
              " */\n",
              "(function(scope) {\n",
              "function span(text, styleAttributes = {}) {\n",
              "  const element = document.createElement('span');\n",
              "  element.textContent = text;\n",
              "  for (const key of Object.keys(styleAttributes)) {\n",
              "    element.style[key] = styleAttributes[key];\n",
              "  }\n",
              "  return element;\n",
              "}\n",
              "\n",
              "// Max number of bytes which will be uploaded at a time.\n",
              "const MAX_PAYLOAD_SIZE = 100 * 1024;\n",
              "\n",
              "function _uploadFiles(inputId, outputId) {\n",
              "  const steps = uploadFilesStep(inputId, outputId);\n",
              "  const outputElement = document.getElementById(outputId);\n",
              "  // Cache steps on the outputElement to make it available for the next call\n",
              "  // to uploadFilesContinue from Python.\n",
              "  outputElement.steps = steps;\n",
              "\n",
              "  return _uploadFilesContinue(outputId);\n",
              "}\n",
              "\n",
              "// This is roughly an async generator (not supported in the browser yet),\n",
              "// where there are multiple asynchronous steps and the Python side is going\n",
              "// to poll for completion of each step.\n",
              "// This uses a Promise to block the python side on completion of each step,\n",
              "// then passes the result of the previous step as the input to the next step.\n",
              "function _uploadFilesContinue(outputId) {\n",
              "  const outputElement = document.getElementById(outputId);\n",
              "  const steps = outputElement.steps;\n",
              "\n",
              "  const next = steps.next(outputElement.lastPromiseValue);\n",
              "  return Promise.resolve(next.value.promise).then((value) => {\n",
              "    // Cache the last promise value to make it available to the next\n",
              "    // step of the generator.\n",
              "    outputElement.lastPromiseValue = value;\n",
              "    return next.value.response;\n",
              "  });\n",
              "}\n",
              "\n",
              "/**\n",
              " * Generator function which is called between each async step of the upload\n",
              " * process.\n",
              " * @param {string} inputId Element ID of the input file picker element.\n",
              " * @param {string} outputId Element ID of the output display.\n",
              " * @return {!Iterable<!Object>} Iterable of next steps.\n",
              " */\n",
              "function* uploadFilesStep(inputId, outputId) {\n",
              "  const inputElement = document.getElementById(inputId);\n",
              "  inputElement.disabled = false;\n",
              "\n",
              "  const outputElement = document.getElementById(outputId);\n",
              "  outputElement.innerHTML = '';\n",
              "\n",
              "  const pickedPromise = new Promise((resolve) => {\n",
              "    inputElement.addEventListener('change', (e) => {\n",
              "      resolve(e.target.files);\n",
              "    });\n",
              "  });\n",
              "\n",
              "  const cancel = document.createElement('button');\n",
              "  inputElement.parentElement.appendChild(cancel);\n",
              "  cancel.textContent = 'Cancel upload';\n",
              "  const cancelPromise = new Promise((resolve) => {\n",
              "    cancel.onclick = () => {\n",
              "      resolve(null);\n",
              "    };\n",
              "  });\n",
              "\n",
              "  // Wait for the user to pick the files.\n",
              "  const files = yield {\n",
              "    promise: Promise.race([pickedPromise, cancelPromise]),\n",
              "    response: {\n",
              "      action: 'starting',\n",
              "    }\n",
              "  };\n",
              "\n",
              "  cancel.remove();\n",
              "\n",
              "  // Disable the input element since further picks are not allowed.\n",
              "  inputElement.disabled = true;\n",
              "\n",
              "  if (!files) {\n",
              "    return {\n",
              "      response: {\n",
              "        action: 'complete',\n",
              "      }\n",
              "    };\n",
              "  }\n",
              "\n",
              "  for (const file of files) {\n",
              "    const li = document.createElement('li');\n",
              "    li.append(span(file.name, {fontWeight: 'bold'}));\n",
              "    li.append(span(\n",
              "        `(${file.type || 'n/a'}) - ${file.size} bytes, ` +\n",
              "        `last modified: ${\n",
              "            file.lastModifiedDate ? file.lastModifiedDate.toLocaleDateString() :\n",
              "                                    'n/a'} - `));\n",
              "    const percent = span('0% done');\n",
              "    li.appendChild(percent);\n",
              "\n",
              "    outputElement.appendChild(li);\n",
              "\n",
              "    const fileDataPromise = new Promise((resolve) => {\n",
              "      const reader = new FileReader();\n",
              "      reader.onload = (e) => {\n",
              "        resolve(e.target.result);\n",
              "      };\n",
              "      reader.readAsArrayBuffer(file);\n",
              "    });\n",
              "    // Wait for the data to be ready.\n",
              "    let fileData = yield {\n",
              "      promise: fileDataPromise,\n",
              "      response: {\n",
              "        action: 'continue',\n",
              "      }\n",
              "    };\n",
              "\n",
              "    // Use a chunked sending to avoid message size limits. See b/62115660.\n",
              "    let position = 0;\n",
              "    do {\n",
              "      const length = Math.min(fileData.byteLength - position, MAX_PAYLOAD_SIZE);\n",
              "      const chunk = new Uint8Array(fileData, position, length);\n",
              "      position += length;\n",
              "\n",
              "      const base64 = btoa(String.fromCharCode.apply(null, chunk));\n",
              "      yield {\n",
              "        response: {\n",
              "          action: 'append',\n",
              "          file: file.name,\n",
              "          data: base64,\n",
              "        },\n",
              "      };\n",
              "\n",
              "      let percentDone = fileData.byteLength === 0 ?\n",
              "          100 :\n",
              "          Math.round((position / fileData.byteLength) * 100);\n",
              "      percent.textContent = `${percentDone}% done`;\n",
              "\n",
              "    } while (position < fileData.byteLength);\n",
              "  }\n",
              "\n",
              "  // All done.\n",
              "  yield {\n",
              "    response: {\n",
              "      action: 'complete',\n",
              "    }\n",
              "  };\n",
              "}\n",
              "\n",
              "scope.google = scope.google || {};\n",
              "scope.google.colab = scope.google.colab || {};\n",
              "scope.google.colab._files = {\n",
              "  _uploadFiles,\n",
              "  _uploadFilesContinue,\n",
              "};\n",
              "})(self);\n",
              "</script> "
            ]
          },
          "metadata": {}
        },
        {
          "output_type": "stream",
          "name": "stdout",
          "text": [
            "Saving ISONE_grossload_metdata_spliced_23yr_EPT.csv to ISONE_grossload_metdata_spliced_23yr_EPT.csv\n"
          ]
        }
      ]
    },
    {
      "cell_type": "code",
      "source": [
        "#Step 2: Read the CSV file into a dataframe for management/cleaning.\n",
        "import pandas as pd\n",
        "df = pd.read_csv('ISONE_grossload_metdata_spliced_23yr_EPT.csv')\n",
        "\n",
        "#Step 3: Display the first few rows of the dataframe and confirm it is the right data.\n",
        "print(df.head())"
      ],
      "metadata": {
        "colab": {
          "base_uri": "https://localhost:8080/"
        },
        "id": "XkwjHKwEbhGA",
        "outputId": "b1f57238-4692-4013-b7b0-d1584cca16e5"
      },
      "execution_count": null,
      "outputs": [
        {
          "output_type": "stream",
          "name": "stdout",
          "text": [
            "         Date  Hour_Ending  ISONE_grs_ld  ISONE_temp  ISONE_rh  ISONE_ghi  \\\n",
            "0  1999-12-31           20     13973.870       1.000    63.544        0.0   \n",
            "1  1999-12-31           21     15327.421      -1.728    58.923        0.0   \n",
            "2  1999-12-31           22     15840.597      -2.555    66.559        0.0   \n",
            "3  1999-12-31           23     15095.283      -2.888    63.212        0.0   \n",
            "4  1999-12-31           24     13747.394      -3.503    62.954        0.0   \n",
            "\n",
            "   ISONE_10m_lz_wnd_spd  ISONE_onsw_wnd_spd  ISONE_ofsw_wnd_spd  \n",
            "0                 1.528               7.405               4.824  \n",
            "1                 1.883               7.995               4.924  \n",
            "2                 2.344               7.448               5.243  \n",
            "3                 2.734               7.123               5.406  \n",
            "4                 2.997               6.831               5.574  \n"
          ]
        }
      ]
    },
    {
      "cell_type": "code",
      "source": [
        "#Step 4: Combine the grid load based on dates, sum the load for the same day!\n",
        "#We will use the groupby() function, and group the rows by day, summing over load column.\n",
        "#We will save this into a series, which will have the date as the index, and the load for each cummulative day as the value.\n",
        "gl = df.groupby('Date')['ISONE_grs_ld'].sum()\n",
        "\n",
        "#Now, create a new dataframe for the grid_load, similar to the wind_data from above.\n",
        "grid_load = pd.DataFrame()\n",
        "\n",
        "#Then, copy over the indexes (dates) and values (cummulative load) to the new data frame.\n",
        "grid_load['Date'] = gl.index.copy()\n",
        "grid_load['Load'] = gl.values.copy()\n",
        "\n",
        "#Ensure the date is in datetime format!\n",
        "grid_load['Date'] = pd.to_datetime(grid_load['Date'])\n",
        "\n",
        "#Print to make sure you have the data in the correct format!\n",
        "print(grid_load)"
      ],
      "metadata": {
        "colab": {
          "base_uri": "https://localhost:8080/"
        },
        "id": "pxovYUptdgZn",
        "outputId": "e37f9b92-b2b3-41f4-ffc1-5f747a0c1d2e"
      },
      "execution_count": null,
      "outputs": [
        {
          "output_type": "stream",
          "name": "stdout",
          "text": [
            "           Date        Load\n",
            "0    1999-12-31   73984.565\n",
            "1    2000-01-01  354832.061\n",
            "2    2000-01-02  349242.490\n",
            "3    2000-01-03  350583.444\n",
            "4    2000-01-04  345941.275\n",
            "...         ...         ...\n",
            "8398 2022-12-28  350730.536\n",
            "8399 2022-12-29  328251.077\n",
            "8400 2022-12-30  304037.998\n",
            "8401 2022-12-31  288181.831\n",
            "8402 2023-01-01   11102.659\n",
            "\n",
            "[8403 rows x 2 columns]\n"
          ]
        }
      ]
    },
    {
      "cell_type": "markdown",
      "source": [
        "**Part 3:** Combine our 2 new dataframes so that they share a date column."
      ],
      "metadata": {
        "id": "DpFSxG8btDPk"
      }
    },
    {
      "cell_type": "code",
      "source": [
        "#Step 1: Use the merge function, provided by Pandas, to combine the two dataframes.\n",
        "wind_load_data = pd.merge(grid_load, wind_data, on = \"Date\", how = \"left\")\n",
        "\n",
        "#Print to ensure we have gotten it right!\n",
        "print(wind_load_data)"
      ],
      "metadata": {
        "colab": {
          "base_uri": "https://localhost:8080/"
        },
        "id": "IaJv2gcKuEKE",
        "outputId": "26bff166-118e-4f1d-bb91-8f553e615d73"
      },
      "execution_count": null,
      "outputs": [
        {
          "output_type": "stream",
          "name": "stdout",
          "text": [
            "           Date        Load  Net CP for Turbines\n",
            "0    1999-12-31   73984.565                  NaN\n",
            "1    2000-01-01  354832.061              11.9738\n",
            "2    2000-01-02  349242.490              16.2638\n",
            "3    2000-01-03  350583.444              15.3354\n",
            "4    2000-01-04  345941.275              19.2895\n",
            "...         ...         ...                  ...\n",
            "8398 2022-12-28  350730.536               9.0555\n",
            "8399 2022-12-29  328251.077              14.4821\n",
            "8400 2022-12-30  304037.998              14.4530\n",
            "8401 2022-12-31  288181.831              13.8022\n",
            "8402 2023-01-01   11102.659                  NaN\n",
            "\n",
            "[8403 rows x 3 columns]\n"
          ]
        }
      ]
    },
    {
      "cell_type": "markdown",
      "source": [
        "**Part 4:** Select which year and months on which to perform analysis!"
      ],
      "metadata": {
        "id": "Kgd5M2dqxRok"
      }
    },
    {
      "cell_type": "code",
      "source": [
        "#Step 1: Select 1 year and 3 months that we want to look at for the analysis. This is designed to index for months within the same year.\n",
        "year = 2020\n",
        "month1 = 3\n",
        "month2 = 4\n",
        "month3 = 5\n",
        "\n",
        "analysis_data = wind_load_data.loc[(wind_load_data['Date'].dt.year == year) & ((wind_load_data['Date'].dt.month == month1) | (wind_load_data['Date'].dt.month == month2)| (wind_load_data['Date'].dt.month == month3))]\n",
        "\n",
        "#By printing, we can see that it has only pulled out these rows!\n",
        "print(analysis_data)"
      ],
      "metadata": {
        "colab": {
          "base_uri": "https://localhost:8080/"
        },
        "id": "3YLdIOpvOIqd",
        "outputId": "66cd893a-dc46-4953-c5be-d32584e5a9ec"
      },
      "execution_count": null,
      "outputs": [
        {
          "output_type": "stream",
          "name": "stdout",
          "text": [
            "           Date        Load  Net CP for Turbines\n",
            "7366 2020-03-01  324403.616              14.5773\n",
            "7367 2020-03-02  326618.657              14.6899\n",
            "7368 2020-03-03  301743.460              15.7330\n",
            "7369 2020-03-04  305762.063              21.3420\n",
            "7370 2020-03-05  309258.962              13.0622\n",
            "...         ...         ...                  ...\n",
            "7453 2020-05-27  326556.800               4.8616\n",
            "7454 2020-05-28  330578.431              12.3541\n",
            "7455 2020-05-29  340656.554              21.6685\n",
            "7456 2020-05-30  311396.976              15.8536\n",
            "7457 2020-05-31  261758.767               6.7669\n",
            "\n",
            "[92 rows x 3 columns]\n"
          ]
        }
      ]
    },
    {
      "cell_type": "markdown",
      "source": [
        "**Part 5:** Add in different total turbine installation capacities to determine the potential generation from various NE OSW projects."
      ],
      "metadata": {
        "id": "PbBXbQi_QHbF"
      }
    },
    {
      "cell_type": "code",
      "source": [
        "#Step 1: Add different turbine capacities.\n",
        "analysis_data['Load - 1500MW Turbine'] = analysis_data['Load'] - (analysis_data['Net CP for Turbines'] * 1500)\n",
        "analysis_data['Load - 4000MW Turbine'] = analysis_data['Load'] - (analysis_data['Net CP for Turbines'] * 4000)\n",
        "analysis_data['Load - 8000MW Turbine'] = analysis_data['Load'] - (analysis_data['Net CP for Turbines'] * 8000)\n",
        "\n",
        "#Step 2: Remove the old net capacity column as we no longer need it.\n",
        "analysis_data = analysis_data.drop(columns = ['Net CP for Turbines'])\n",
        "\n",
        "#Step 3: Print to make sure we have the right data!\n",
        "print(analysis_data)\n",
        "\n",
        "#You can safely ignore any warnings about \"a value trying to be set on a copy of a slice\"."
      ],
      "metadata": {
        "colab": {
          "base_uri": "https://localhost:8080/"
        },
        "id": "5ErrgVJV6Loj",
        "outputId": "9a733404-167f-49d4-f943-38ba7c0c9c66"
      },
      "execution_count": null,
      "outputs": [
        {
          "output_type": "stream",
          "name": "stdout",
          "text": [
            "           Date        Load  Load - 1500MW Turbine  Load - 4000MW Turbine  \\\n",
            "7366 2020-03-01  324403.616             302537.666             266094.416   \n",
            "7367 2020-03-02  326618.657             304583.807             267859.057   \n",
            "7368 2020-03-03  301743.460             278143.960             238811.460   \n",
            "7369 2020-03-04  305762.063             273749.063             220394.063   \n",
            "7370 2020-03-05  309258.962             289665.662             257010.162   \n",
            "...         ...         ...                    ...                    ...   \n",
            "7453 2020-05-27  326556.800             319264.400             307110.400   \n",
            "7454 2020-05-28  330578.431             312047.281             281162.031   \n",
            "7455 2020-05-29  340656.554             308153.804             253982.554   \n",
            "7456 2020-05-30  311396.976             287616.576             247982.576   \n",
            "7457 2020-05-31  261758.767             251608.417             234691.167   \n",
            "\n",
            "      Load - 8000MW Turbine  \n",
            "7366             207785.216  \n",
            "7367             209099.457  \n",
            "7368             175879.460  \n",
            "7369             135026.063  \n",
            "7370             204761.362  \n",
            "...                     ...  \n",
            "7453             287664.000  \n",
            "7454             231745.631  \n",
            "7455             167308.554  \n",
            "7456             184568.176  \n",
            "7457             207623.567  \n",
            "\n",
            "[92 rows x 5 columns]\n"
          ]
        }
      ]
    },
    {
      "cell_type": "markdown",
      "source": [
        "**Part 6:** Plot the data!"
      ],
      "metadata": {
        "id": "ETldRcuCUnjn"
      }
    },
    {
      "cell_type": "code",
      "source": [
        "#Step 1: Import matplotlib as the plotting tool to use!\n",
        "import matplotlib.pyplot as plt\n",
        "\n",
        "#Step 2: Define a figure and axis.\n",
        "fig, ax = plt.subplots()\n",
        "\n",
        "#Step 3: Plot the data! Here we have the date on the x axis, with load on the y-axis.\n",
        "ax.plot(analysis_data['Date'], analysis_data['Load'], label = 'Load')\n",
        "ax.plot(analysis_data['Date'], analysis_data['Load - 1500MW Turbine'], label = 'Load - 1500MW Turbine')\n",
        "ax.plot(analysis_data['Date'], analysis_data['Load - 4000MW Turbine'], label = 'Load - 4000MW Turbine')\n",
        "ax.plot(analysis_data['Date'], analysis_data['Load - 8000MW Turbine'], label = 'Load - 8000MW Turbine')\n",
        "\n",
        "#Step 4: Label the both the x and y axis\n",
        "ax.set_xlabel('Date')\n",
        "ax.set_ylabel('Load (MW)')\n",
        "\n",
        "#Step 5: Set the x and y axis limits.\n",
        "ax.set_ylim(ymin=0, ymax=500000)\n",
        "\n",
        "#Step 6: Rotate the x axis time labels for better fit within the figure.\n",
        "plt.xticks(rotation=50)\n",
        "\n",
        "#Step 7: Define the risk regions.\n",
        "plt.fill_between(analysis_data['Date'], 350000, 400000, color='yellow', alpha=0.5, linewidth = 0.0, label='Elevated Risk')\n",
        "plt.fill_between(analysis_data['Date'], 400000, 450000, color='orange', alpha=0.5, linewidth = 0.0, label='High Risk')\n",
        "plt.fill_between(analysis_data['Date'], 450000, 500000, color='red', alpha=0.5, linewidth = 0.0, label='Higher Risk')\n",
        "\n",
        "#Step 8: Create the legend and show the plot!\n",
        "plt.legend(bbox_to_anchor=(1,1), loc=\"upper left\")\n",
        "plt.show()"
      ],
      "metadata": {
        "colab": {
          "base_uri": "https://localhost:8080/",
          "height": 511
        },
        "id": "A7XJjhll6rXP",
        "outputId": "889d1c88-de8c-4aaf-c6b6-0c425117b0a2"
      },
      "execution_count": null,
      "outputs": [
        {
          "output_type": "display_data",
          "data": {
            "text/plain": [
              "<Figure size 640x480 with 1 Axes>"
            ],
            "image/png": "[encoded data removed]"
          },
          "metadata": {}
        }
      ]
    },
    {
      "cell_type": "code",
      "source": [
        "#Step 9.1: Print the number of days with elevated risk\n",
        "print(\"Days of Elevated Risk or greater with no turbines: \", analysis_data[(analysis_data[\"Load\"] > 350000)].shape[0])\n",
        "print(\"Days of Elevated Risk or greater with 1500 MW of turbines: \", analysis_data[(analysis_data[\"Load - 1500MW Turbine\"] > 350000)].shape[0])\n",
        "print(\"Days of Elevated Risk or greater with 4000 MW of turbines: \", analysis_data[(analysis_data[\"Load - 4000MW Turbine\"] > 350000)].shape[0])\n",
        "print(\"Days of Elevated Risk or greater with 8000 MW of turbines: \", analysis_data[(analysis_data[\"Load - 8000MW Turbine\"] > 350000)].shape[0])"
      ],
      "metadata": {
        "id": "mkzVMjMA7IFD",
        "colab": {
          "base_uri": "https://localhost:8080/"
        },
        "outputId": "71256173-e7f0-4a73-baa3-d3d951d2f65d"
      },
      "execution_count": null,
      "outputs": [
        {
          "output_type": "stream",
          "name": "stdout",
          "text": [
            "Days of Elevated Risk or greater with no turbines:  0\n",
            "Days of Elevated Risk or greater with 1500 MW of turbines:  0\n",
            "Days of Elevated Risk or greater with 4000 MW of turbines:  0\n",
            "Days of Elevated Risk or greater with 8000 MW of turbines:  0\n"
          ]
        }
      ]
    },
    {
      "cell_type": "code",
      "source": [
        "#Step 9.2: Print the number of days with high risk\n",
        "print(\"Days of High Risk or greater with no turbines: \", analysis_data[(analysis_data[\"Load\"] > 400000)].shape[0])\n",
        "print(\"Days of High Risk or greater with 1500 MW of turbines: \", analysis_data[(analysis_data[\"Load - 1500MW Turbine\"] > 400000)].shape[0])\n",
        "print(\"Days of High Risk or greater with 4000 MW of turbines: \", analysis_data[(analysis_data[\"Load - 4000MW Turbine\"] > 400000)].shape[0])\n",
        "print(\"Days of High Risk or greater with 8000 MW of turbines: \", analysis_data[(analysis_data[\"Load - 8000MW Turbine\"] > 400000)].shape[0])"
      ],
      "metadata": {
        "colab": {
          "base_uri": "https://localhost:8080/"
        },
        "id": "_6HH5TN_A253",
        "outputId": "ba5ea8b1-a491-4955-f8f0-6008b18202ec"
      },
      "execution_count": null,
      "outputs": [
        {
          "output_type": "stream",
          "name": "stdout",
          "text": [
            "Days of High Risk or greater with no turbines:  0\n",
            "Days of High Risk or greater with 1500 MW of turbines:  0\n",
            "Days of High Risk or greater with 4000 MW of turbines:  0\n",
            "Days of High Risk or greater with 8000 MW of turbines:  0\n"
          ]
        }
      ]
    },
    {
      "cell_type": "code",
      "source": [
        "#Step 9.3: Print the number of days with higher risk\n",
        "print(\"Days of Higher Risk with no turbines: \", analysis_data[analysis_data[\"Load\"] > 450000].shape[0])\n",
        "print(\"Days of Higher Risk with 1500 MW of turbines: \", analysis_data[analysis_data[\"Load - 1500MW Turbine\"] > 450000].shape[0])\n",
        "print(\"Days of Higher Risk with 4000 MW of turbines: \", analysis_data[analysis_data[\"Load - 4000MW Turbine\"] > 450000].shape[0])\n",
        "print(\"Days of Higher Risk with 8000 MW of turbines: \", analysis_data[analysis_data[\"Load - 8000MW Turbine\"] > 450000].shape[0])"
      ],
      "metadata": {
        "colab": {
          "base_uri": "https://localhost:8080/"
        },
        "id": "YcnLxW30DUZN",
        "outputId": "6f8984ec-fd42-4fcd-acd0-f50043184a44"
      },
      "execution_count": null,
      "outputs": [
        {
          "output_type": "stream",
          "name": "stdout",
          "text": [
            "Days of Higher Risk with no turbines:  0\n",
            "Days of Higher Risk with 1500 MW of turbines:  0\n",
            "Days of Higher Risk with 4000 MW of turbines:  0\n",
            "Days of Higher Risk with 8000 MW of turbines:  0\n"
          ]
        }
      ]
    },
    {
      "cell_type": "markdown",
      "source": [
        "**Part 7:** Loop over all potential years to determine average number of days with elevated risk and plot this data!"
      ],
      "metadata": {
        "id": "QyEhfvy0tPA4"
      }
    },
    {
      "cell_type": "code",
      "source": [
        "import warnings\n",
        "warnings.filterwarnings(\"ignore\")\n",
        "\n",
        "#Step 1: Create a dataframe for the elevated risk data.\n",
        "elevated_risk = pd.DataFrame(columns=['Year Range', 'No Turbines', '1500MW Turbine Capacity', '4000 MW Turbine Capacity', '8000 MW Turbine Capacity'])\n",
        "\n",
        "years_min=2000\n",
        "years_max = 2023\n",
        "\n",
        "i = years_min\n",
        "while i < years_max:\n",
        "  analysis_data = wind_load_data.loc[(wind_load_data['Date'].dt.year == i) & ((wind_load_data['Date'].dt.month == month1) | (wind_load_data['Date'].dt.month == month2)| (wind_load_data['Date'].dt.month == month3))]\n",
        "  analysis_data['Load - 1500MW Turbine'] = analysis_data['Load'] - (analysis_data['Net CP for Turbines'] * 1500)\n",
        "  analysis_data['Load - 4000MW Turbine'] = analysis_data['Load'] - (analysis_data['Net CP for Turbines'] * 4000)\n",
        "  analysis_data['Load - 8000MW Turbine'] = analysis_data['Load'] - (analysis_data['Net CP for Turbines'] * 8000)\n",
        "  analysis_data = analysis_data.drop(columns = ['Net CP for Turbines'])\n",
        "  elevated_risk.loc[i - years_min] = [str(i), analysis_data[analysis_data[\"Load\"] > 350000].shape[0], analysis_data[(analysis_data[\"Load - 1500MW Turbine\"] > 350000)].shape[0], analysis_data[(analysis_data[\"Load - 4000MW Turbine\"] > 350000)].shape[0], analysis_data[analysis_data[\"Load - 8000MW Turbine\"] > 350000].shape[0]]\n",
        "  i+=1\n",
        "\n",
        "\n",
        "fig, axes = plt.subplots(nrows=1, ncols=4, figsize=(15, 5), sharey=True)\n",
        "axes[0].bar(elevated_risk['Year Range'], elevated_risk['No Turbines'], label='Days of Elevated Risk without Turbines')\n",
        "axes[1].bar(elevated_risk['Year Range'], elevated_risk['1500MW Turbine Capacity'], label='Days of Elevated Risk with 1500MW of Turbine Capacity')\n",
        "axes[2].bar(elevated_risk['Year Range'], elevated_risk['4000 MW Turbine Capacity'], label='Days of Elevated Risk with 4000MW of Turbine Capacity')\n",
        "axes[3].bar(elevated_risk['Year Range'], elevated_risk['8000 MW Turbine Capacity'], label='Days of Elevated Risk with 8000MW of Turbine Capacity')\n",
        "\n",
        "axes[0].tick_params(labelrotation=90)\n",
        "axes[1].tick_params(labelrotation=90)\n",
        "axes[2].tick_params(labelrotation=90)\n",
        "axes[3].tick_params(labelrotation=90)\n",
        "\n",
        "plt.suptitle(\"Days with Elevated Risk\")\n",
        "axes[0].set_title('No Turbines')\n",
        "axes[1].set_title('1500MW Turbine Capacity')\n",
        "axes[2].set_title('4000MW Turbine Capacity')\n",
        "axes[3].set_title('8000MW Turbine Capacity')\n",
        "\n",
        "plt.tight_layout()\n",
        "plt.show()"
      ],
      "metadata": {
        "colab": {
          "base_uri": "https://localhost:8080/",
          "height": 385
        },
        "id": "0eWJOLbMDytL",
        "outputId": "b0f8c050-3c3f-4744-e67e-074749ebb022"
      },
      "execution_count": null,
      "outputs": [
        {
          "output_type": "display_data",
          "data": {
            "text/plain": [
              "<Figure size 1500x500 with 4 Axes>"
            ],
            "image/png": "[encoded data removed]"
          },
          "metadata": {}
        }
      ]
    }
  ]
}