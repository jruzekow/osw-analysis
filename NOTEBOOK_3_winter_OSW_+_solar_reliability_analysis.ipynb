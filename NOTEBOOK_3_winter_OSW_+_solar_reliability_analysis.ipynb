{
  "nbformat": 4,
  "nbformat_minor": 0,
  "metadata": {
    "colab": {
      "provenance": []
    },
    "kernelspec": {
      "name": "python3",
      "display_name": "Python 3"
    },
    "language_info": {
      "name": "python"
    }
  },
  "cells": [
    {
      "cell_type": "markdown",
      "source": [
        "# Notebook 3 for ISONE (winter) OSW + Solar Analysis\n",
        "This notebook is designed to re-perform the analysis of winter months, this time with the addition of current solar resources.\n",
        "\n",
        "It is largely the same as notebook 1, but additionally reads in the solar resource data from the ISONE website. The solar resource is then added to the wind and both are subtracted from the load profile to understand how renewables enable grid stability in winter months.\n",
        "\n",
        "**To run, press the play buttons for each grey cell in order!**"
      ],
      "metadata": {
        "id": "cEKyy7V9h1K4"
      }
    },
    {
      "cell_type": "markdown",
      "source": [
        "**Part 1:**\n",
        "To run this notebook as-is:\n",
        "\n",
        "\n",
        "*   Navigate to the ISONE website: https://www.iso-ne.com/system-planning/planning-models-and-data/variable-energy-resource-data\n",
        "*   Find the zip folder \"**2023 ISO-NE Variable Energy Resource (VER) Data Series (2000-2022) Rev. 0**\", download and unzip\n",
        "*   Naviagate to the \"wind\" folder to find the file **2023_ISONE_Wind_ofsw_Aggregated_Power_Data_2000-2022_NetPwrTS.csv**\n",
        "*   Navigate to the \"load\" folder to find the file **ISONE_grossload_metdata_spliced_23yr_EPT.csv**\n",
        "\n",
        "*   Navigate to the \"solar\" folder to find the file **ISONE_solarcapacity_modeled_23yr_EPT.csv**\n",
        "\n",
        "\n",
        "\n",
        "\n",
        "\n",
        "\n",
        "\n",
        "We will start with the OSW data in step 1 below."
      ],
      "metadata": {
        "id": "_RF8tDtENAFC"
      }
    },
    {
      "cell_type": "code",
      "execution_count": null,
      "metadata": {
        "colab": {
          "base_uri": "https://localhost:8080/",
          "height": 73
        },
        "id": "BmEdYfFYMyfw",
        "outputId": "abb0eeb0-12d4-470c-b7f1-71b17d6ee9a1"
      },
      "outputs": [
        {
          "output_type": "display_data",
          "data": {
            "text/plain": [
              "<IPython.core.display.HTML object>"
            ],
            "text/html": [
              "\n",
              "     <input type=\"file\" id=\"files-72332197-4117-4199-bc9c-b18f8ef8fdc4\" name=\"files[]\" multiple disabled\n",
              "        style=\"border:none\" />\n",
              "     <output id=\"result-72332197-4117-4199-bc9c-b18f8ef8fdc4\">\n",
              "      Upload widget is only available when the cell has been executed in the\n",
              "      current browser session. Please rerun this cell to enable.\n",
              "      </output>\n",
              "      <script>// Copyright 2017 Google LLC\n",
              "//\n",
              "// Licensed under the Apache License, Version 2.0 (the \"License\");\n",
              "// you may not use this file except in compliance with the License.\n",
              "// You may obtain a copy of the License at\n",
              "//\n",
              "//      http://www.apache.org/licenses/LICENSE-2.0\n",
              "//\n",
              "// Unless required by applicable law or agreed to in writing, software\n",
              "// distributed under the License is distributed on an \"AS IS\" BASIS,\n",
              "// WITHOUT WARRANTIES OR CONDITIONS OF ANY KIND, either express or implied.\n",
              "// See the License for the specific language governing permissions and\n",
              "// limitations under the License.\n",
              "\n",
              "/**\n",
              " * @fileoverview Helpers for google.colab Python module.\n",
              " */\n",
              "(function(scope) {\n",
              "function span(text, styleAttributes = {}) {\n",
              "  const element = document.createElement('span');\n",
              "  element.textContent = text;\n",
              "  for (const key of Object.keys(styleAttributes)) {\n",
              "    element.style[key] = styleAttributes[key];\n",
              "  }\n",
              "  return element;\n",
              "}\n",
              "\n",
              "// Max number of bytes which will be uploaded at a time.\n",
              "const MAX_PAYLOAD_SIZE = 100 * 1024;\n",
              "\n",
              "function _uploadFiles(inputId, outputId) {\n",
              "  const steps = uploadFilesStep(inputId, outputId);\n",
              "  const outputElement = document.getElementById(outputId);\n",
              "  // Cache steps on the outputElement to make it available for the next call\n",
              "  // to uploadFilesContinue from Python.\n",
              "  outputElement.steps = steps;\n",
              "\n",
              "  return _uploadFilesContinue(outputId);\n",
              "}\n",
              "\n",
              "// This is roughly an async generator (not supported in the browser yet),\n",
              "// where there are multiple asynchronous steps and the Python side is going\n",
              "// to poll for completion of each step.\n",
              "// This uses a Promise to block the python side on completion of each step,\n",
              "// then passes the result of the previous step as the input to the next step.\n",
              "function _uploadFilesContinue(outputId) {\n",
              "  const outputElement = document.getElementById(outputId);\n",
              "  const steps = outputElement.steps;\n",
              "\n",
              "  const next = steps.next(outputElement.lastPromiseValue);\n",
              "  return Promise.resolve(next.value.promise).then((value) => {\n",
              "    // Cache the last promise value to make it available to the next\n",
              "    // step of the generator.\n",
              "    outputElement.lastPromiseValue = value;\n",
              "    return next.value.response;\n",
              "  });\n",
              "}\n",
              "\n",
              "/**\n",
              " * Generator function which is called between each async step of the upload\n",
              " * process.\n",
              " * @param {string} inputId Element ID of the input file picker element.\n",
              " * @param {string} outputId Element ID of the output display.\n",
              " * @return {!Iterable<!Object>} Iterable of next steps.\n",
              " */\n",
              "function* uploadFilesStep(inputId, outputId) {\n",
              "  const inputElement = document.getElementById(inputId);\n",
              "  inputElement.disabled = false;\n",
              "\n",
              "  const outputElement = document.getElementById(outputId);\n",
              "  outputElement.innerHTML = '';\n",
              "\n",
              "  const pickedPromise = new Promise((resolve) => {\n",
              "    inputElement.addEventListener('change', (e) => {\n",
              "      resolve(e.target.files);\n",
              "    });\n",
              "  });\n",
              "\n",
              "  const cancel = document.createElement('button');\n",
              "  inputElement.parentElement.appendChild(cancel);\n",
              "  cancel.textContent = 'Cancel upload';\n",
              "  const cancelPromise = new Promise((resolve) => {\n",
              "    cancel.onclick = () => {\n",
              "      resolve(null);\n",
              "    };\n",
              "  });\n",
              "\n",
              "  // Wait for the user to pick the files.\n",
              "  const files = yield {\n",
              "    promise: Promise.race([pickedPromise, cancelPromise]),\n",
              "    response: {\n",
              "      action: 'starting',\n",
              "    }\n",
              "  };\n",
              "\n",
              "  cancel.remove();\n",
              "\n",
              "  // Disable the input element since further picks are not allowed.\n",
              "  inputElement.disabled = true;\n",
              "\n",
              "  if (!files) {\n",
              "    return {\n",
              "      response: {\n",
              "        action: 'complete',\n",
              "      }\n",
              "    };\n",
              "  }\n",
              "\n",
              "  for (const file of files) {\n",
              "    const li = document.createElement('li');\n",
              "    li.append(span(file.name, {fontWeight: 'bold'}));\n",
              "    li.append(span(\n",
              "        `(${file.type || 'n/a'}) - ${file.size} bytes, ` +\n",
              "        `last modified: ${\n",
              "            file.lastModifiedDate ? file.lastModifiedDate.toLocaleDateString() :\n",
              "                                    'n/a'} - `));\n",
              "    const percent = span('0% done');\n",
              "    li.appendChild(percent);\n",
              "\n",
              "    outputElement.appendChild(li);\n",
              "\n",
              "    const fileDataPromise = new Promise((resolve) => {\n",
              "      const reader = new FileReader();\n",
              "      reader.onload = (e) => {\n",
              "        resolve(e.target.result);\n",
              "      };\n",
              "      reader.readAsArrayBuffer(file);\n",
              "    });\n",
              "    // Wait for the data to be ready.\n",
              "    let fileData = yield {\n",
              "      promise: fileDataPromise,\n",
              "      response: {\n",
              "        action: 'continue',\n",
              "      }\n",
              "    };\n",
              "\n",
              "    // Use a chunked sending to avoid message size limits. See b/62115660.\n",
              "    let position = 0;\n",
              "    do {\n",
              "      const length = Math.min(fileData.byteLength - position, MAX_PAYLOAD_SIZE);\n",
              "      const chunk = new Uint8Array(fileData, position, length);\n",
              "      position += length;\n",
              "\n",
              "      const base64 = btoa(String.fromCharCode.apply(null, chunk));\n",
              "      yield {\n",
              "        response: {\n",
              "          action: 'append',\n",
              "          file: file.name,\n",
              "          data: base64,\n",
              "        },\n",
              "      };\n",
              "\n",
              "      let percentDone = fileData.byteLength === 0 ?\n",
              "          100 :\n",
              "          Math.round((position / fileData.byteLength) * 100);\n",
              "      percent.textContent = `${percentDone}% done`;\n",
              "\n",
              "    } while (position < fileData.byteLength);\n",
              "  }\n",
              "\n",
              "  // All done.\n",
              "  yield {\n",
              "    response: {\n",
              "      action: 'complete',\n",
              "    }\n",
              "  };\n",
              "}\n",
              "\n",
              "scope.google = scope.google || {};\n",
              "scope.google.colab = scope.google.colab || {};\n",
              "scope.google.colab._files = {\n",
              "  _uploadFiles,\n",
              "  _uploadFilesContinue,\n",
              "};\n",
              "})(self);\n",
              "</script> "
            ]
          },
          "metadata": {}
        },
        {
          "output_type": "stream",
          "name": "stdout",
          "text": [
            "Saving 2023_ISONE_Wind_ofsw_Aggregated_Power_Data_2000-2022_NetPwrTS.csv to 2023_ISONE_Wind_ofsw_Aggregated_Power_Data_2000-2022_NetPwrTS.csv\n"
          ]
        }
      ],
      "source": [
        "#Step 1: Upload the offshore wind file when prompted, it should match the file listed below.\n",
        "from google.colab import files\n",
        "uploaded = files.upload()"
      ]
    },
    {
      "cell_type": "code",
      "source": [
        "#Step 2: Read the CSV file into a dataframe for management/cleaning.\n",
        "\n",
        "import pandas as pd\n",
        "df = pd.read_csv('2023_ISONE_Wind_ofsw_Aggregated_Power_Data_2000-2022_NetPwrTS.csv')\n",
        "\n",
        "#Step 3: Display the first few rows of the dataframe and confirm it is the right data.\n",
        "print(df.head())\n"
      ],
      "metadata": {
        "id": "_qvuJLfdSIzV",
        "colab": {
          "base_uri": "https://localhost:8080/"
        },
        "outputId": "2abef73d-c542-4a68-d681-2f6f46a3a946"
      },
      "execution_count": null,
      "outputs": [
        {
          "output_type": "stream",
          "name": "stdout",
          "text": [
            "      LZ        Date  Year  Month  Day  yr_day  yr_wk day_type     HE1  \\\n",
            "0  ISONE  01/01/2000  2000      1    1       1      0       WE  0.1182   \n",
            "1  ISONE  01/02/2000  2000      1    2       2      1       WE  0.6034   \n",
            "2  ISONE  01/03/2000  2000      1    3       3      1       WD  0.9358   \n",
            "3  ISONE  01/04/2000  2000      1    4       4      1       WD  0.6101   \n",
            "4  ISONE  01/05/2000  2000      1    5       5      1       WD  0.9231   \n",
            "\n",
            "      HE2  ...    HE15    HE16    HE17    HE18    HE19    HE20    HE21  \\\n",
            "0  0.1128  ...  0.7474  0.8130  0.8483  0.8691  0.8735  0.8513  0.8644   \n",
            "1  0.4819  ...  0.8502  0.8597  0.8855  0.9102  0.9183  0.9264  0.9357   \n",
            "2  0.9369  ...  0.3960  0.3264  0.2228  0.1880  0.2142  0.2552  0.2616   \n",
            "3  0.7262  ...  0.8515  0.7099  0.6723  0.6208  0.6287  0.5647  0.5804   \n",
            "4  0.9075  ...  0.9225  0.9190  0.9028  0.8953  0.8761  0.8874  0.8830   \n",
            "\n",
            "     HE22    HE23    HE24  \n",
            "0  0.8359  0.7853  0.7326  \n",
            "1  0.9347  0.9372  0.9372  \n",
            "2  0.3077  0.3615  0.4225  \n",
            "3  0.7389  0.8130  0.9185  \n",
            "4  0.8358  0.7761  0.7067  \n",
            "\n",
            "[5 rows x 32 columns]\n"
          ]
        }
      ]
    },
    {
      "cell_type": "code",
      "source": [
        "#Step 4: Create a new dataframe, \"wind_data\" with just the information we want.\n",
        "\n",
        "#First, change the \"Date\" column in the original dataframe to \"datetime\" format.\n",
        "#The datetime format allows us to manipulate the dates easily: https://docs.python.org/3/library/datetime.html\n",
        "df['Date'] = pd.to_datetime(df['Date'])\n",
        "\n",
        "#Next, create a new dataframe named \"wind_data\" to copy over just the columns we want.\n",
        "wind_data = pd.DataFrame()\n",
        "\n",
        "#Then, copy over the date column, which we have already put in datetime format!\n",
        "wind_data['Date'] = df['Date'].copy()\n",
        "\n",
        "#Finally, sum together the CP for every hour of the wind data, then add that as a column to our new dataframe as \"Net CP for Turbines\".\n",
        "wind_data['Net CP for Turbines'] = sum([df['HE1'], df['HE2'], df['HE3'], df['HE4'], df['HE5'],\n",
        "                                        df['HE6'], df['HE7'], df['HE8'], df['HE9'], df['HE10'],\n",
        "                                        df['HE11'], df['HE12'], df['HE13'], df['HE14'], df['HE15'],\n",
        "                                        df['HE16'], df['HE17'], df['HE18'], df['HE19'], df['HE20'],\n",
        "                                        df['HE21'], df['HE22'], df['HE23'], df['HE24']])\n",
        "\n",
        "#We can print the new dataframe to make sure we have what we want!\n",
        "print(wind_data)"
      ],
      "metadata": {
        "colab": {
          "base_uri": "https://localhost:8080/"
        },
        "id": "aEI_DHgwWhlv",
        "outputId": "2bf9fe97-df87-4e09-f1cb-6bfc405ff68e"
      },
      "execution_count": null,
      "outputs": [
        {
          "output_type": "stream",
          "name": "stdout",
          "text": [
            "           Date  Net CP for Turbines\n",
            "0    2000-01-01              11.9738\n",
            "1    2000-01-02              16.2638\n",
            "2    2000-01-03              15.3354\n",
            "3    2000-01-04              19.2895\n",
            "4    2000-01-05              21.4297\n",
            "...         ...                  ...\n",
            "8396 2022-12-27              10.5740\n",
            "8397 2022-12-28               9.0555\n",
            "8398 2022-12-29              14.4821\n",
            "8399 2022-12-30              14.4530\n",
            "8400 2022-12-31              13.8022\n",
            "\n",
            "[8401 rows x 2 columns]\n"
          ]
        }
      ]
    },
    {
      "cell_type": "markdown",
      "source": [
        "**Part 2:** Read in and clean/format the load data!"
      ],
      "metadata": {
        "id": "M4DqeqVpbgCH"
      }
    },
    {
      "cell_type": "code",
      "source": [
        "#Step 1: Upload the load file when prompted, it should match the file listed below.\n",
        "from google.colab import files\n",
        "uploaded = files.upload()"
      ],
      "metadata": {
        "colab": {
          "base_uri": "https://localhost:8080/",
          "height": 73
        },
        "id": "hxiuV75UY1gk",
        "outputId": "87af8b71-763c-44c0-ccdc-157781af0b8a"
      },
      "execution_count": null,
      "outputs": [
        {
          "output_type": "display_data",
          "data": {
            "text/plain": [
              "<IPython.core.display.HTML object>"
            ],
            "text/html": [
              "\n",
              "     <input type=\"file\" id=\"files-40c19fa3-5862-4356-aa9f-0351ac6eb537\" name=\"files[]\" multiple disabled\n",
              "        style=\"border:none\" />\n",
              "     <output id=\"result-40c19fa3-5862-4356-aa9f-0351ac6eb537\">\n",
              "      Upload widget is only available when the cell has been executed in the\n",
              "      current browser session. Please rerun this cell to enable.\n",
              "      </output>\n",
              "      <script>// Copyright 2017 Google LLC\n",
              "//\n",
              "// Licensed under the Apache License, Version 2.0 (the \"License\");\n",
              "// you may not use this file except in compliance with the License.\n",
              "// You may obtain a copy of the License at\n",
              "//\n",
              "//      http://www.apache.org/licenses/LICENSE-2.0\n",
              "//\n",
              "// Unless required by applicable law or agreed to in writing, software\n",
              "// distributed under the License is distributed on an \"AS IS\" BASIS,\n",
              "// WITHOUT WARRANTIES OR CONDITIONS OF ANY KIND, either express or implied.\n",
              "// See the License for the specific language governing permissions and\n",
              "// limitations under the License.\n",
              "\n",
              "/**\n",
              " * @fileoverview Helpers for google.colab Python module.\n",
              " */\n",
              "(function(scope) {\n",
              "function span(text, styleAttributes = {}) {\n",
              "  const element = document.createElement('span');\n",
              "  element.textContent = text;\n",
              "  for (const key of Object.keys(styleAttributes)) {\n",
              "    element.style[key] = styleAttributes[key];\n",
              "  }\n",
              "  return element;\n",
              "}\n",
              "\n",
              "// Max number of bytes which will be uploaded at a time.\n",
              "const MAX_PAYLOAD_SIZE = 100 * 1024;\n",
              "\n",
              "function _uploadFiles(inputId, outputId) {\n",
              "  const steps = uploadFilesStep(inputId, outputId);\n",
              "  const outputElement = document.getElementById(outputId);\n",
              "  // Cache steps on the outputElement to make it available for the next call\n",
              "  // to uploadFilesContinue from Python.\n",
              "  outputElement.steps = steps;\n",
              "\n",
              "  return _uploadFilesContinue(outputId);\n",
              "}\n",
              "\n",
              "// This is roughly an async generator (not supported in the browser yet),\n",
              "// where there are multiple asynchronous steps and the Python side is going\n",
              "// to poll for completion of each step.\n",
              "// This uses a Promise to block the python side on completion of each step,\n",
              "// then passes the result of the previous step as the input to the next step.\n",
              "function _uploadFilesContinue(outputId) {\n",
              "  const outputElement = document.getElementById(outputId);\n",
              "  const steps = outputElement.steps;\n",
              "\n",
              "  const next = steps.next(outputElement.lastPromiseValue);\n",
              "  return Promise.resolve(next.value.promise).then((value) => {\n",
              "    // Cache the last promise value to make it available to the next\n",
              "    // step of the generator.\n",
              "    outputElement.lastPromiseValue = value;\n",
              "    return next.value.response;\n",
              "  });\n",
              "}\n",
              "\n",
              "/**\n",
              " * Generator function which is called between each async step of the upload\n",
              " * process.\n",
              " * @param {string} inputId Element ID of the input file picker element.\n",
              " * @param {string} outputId Element ID of the output display.\n",
              " * @return {!Iterable<!Object>} Iterable of next steps.\n",
              " */\n",
              "function* uploadFilesStep(inputId, outputId) {\n",
              "  const inputElement = document.getElementById(inputId);\n",
              "  inputElement.disabled = false;\n",
              "\n",
              "  const outputElement = document.getElementById(outputId);\n",
              "  outputElement.innerHTML = '';\n",
              "\n",
              "  const pickedPromise = new Promise((resolve) => {\n",
              "    inputElement.addEventListener('change', (e) => {\n",
              "      resolve(e.target.files);\n",
              "    });\n",
              "  });\n",
              "\n",
              "  const cancel = document.createElement('button');\n",
              "  inputElement.parentElement.appendChild(cancel);\n",
              "  cancel.textContent = 'Cancel upload';\n",
              "  const cancelPromise = new Promise((resolve) => {\n",
              "    cancel.onclick = () => {\n",
              "      resolve(null);\n",
              "    };\n",
              "  });\n",
              "\n",
              "  // Wait for the user to pick the files.\n",
              "  const files = yield {\n",
              "    promise: Promise.race([pickedPromise, cancelPromise]),\n",
              "    response: {\n",
              "      action: 'starting',\n",
              "    }\n",
              "  };\n",
              "\n",
              "  cancel.remove();\n",
              "\n",
              "  // Disable the input element since further picks are not allowed.\n",
              "  inputElement.disabled = true;\n",
              "\n",
              "  if (!files) {\n",
              "    return {\n",
              "      response: {\n",
              "        action: 'complete',\n",
              "      }\n",
              "    };\n",
              "  }\n",
              "\n",
              "  for (const file of files) {\n",
              "    const li = document.createElement('li');\n",
              "    li.append(span(file.name, {fontWeight: 'bold'}));\n",
              "    li.append(span(\n",
              "        `(${file.type || 'n/a'}) - ${file.size} bytes, ` +\n",
              "        `last modified: ${\n",
              "            file.lastModifiedDate ? file.lastModifiedDate.toLocaleDateString() :\n",
              "                                    'n/a'} - `));\n",
              "    const percent = span('0% done');\n",
              "    li.appendChild(percent);\n",
              "\n",
              "    outputElement.appendChild(li);\n",
              "\n",
              "    const fileDataPromise = new Promise((resolve) => {\n",
              "      const reader = new FileReader();\n",
              "      reader.onload = (e) => {\n",
              "        resolve(e.target.result);\n",
              "      };\n",
              "      reader.readAsArrayBuffer(file);\n",
              "    });\n",
              "    // Wait for the data to be ready.\n",
              "    let fileData = yield {\n",
              "      promise: fileDataPromise,\n",
              "      response: {\n",
              "        action: 'continue',\n",
              "      }\n",
              "    };\n",
              "\n",
              "    // Use a chunked sending to avoid message size limits. See b/62115660.\n",
              "    let position = 0;\n",
              "    do {\n",
              "      const length = Math.min(fileData.byteLength - position, MAX_PAYLOAD_SIZE);\n",
              "      const chunk = new Uint8Array(fileData, position, length);\n",
              "      position += length;\n",
              "\n",
              "      const base64 = btoa(String.fromCharCode.apply(null, chunk));\n",
              "      yield {\n",
              "        response: {\n",
              "          action: 'append',\n",
              "          file: file.name,\n",
              "          data: base64,\n",
              "        },\n",
              "      };\n",
              "\n",
              "      let percentDone = fileData.byteLength === 0 ?\n",
              "          100 :\n",
              "          Math.round((position / fileData.byteLength) * 100);\n",
              "      percent.textContent = `${percentDone}% done`;\n",
              "\n",
              "    } while (position < fileData.byteLength);\n",
              "  }\n",
              "\n",
              "  // All done.\n",
              "  yield {\n",
              "    response: {\n",
              "      action: 'complete',\n",
              "    }\n",
              "  };\n",
              "}\n",
              "\n",
              "scope.google = scope.google || {};\n",
              "scope.google.colab = scope.google.colab || {};\n",
              "scope.google.colab._files = {\n",
              "  _uploadFiles,\n",
              "  _uploadFilesContinue,\n",
              "};\n",
              "})(self);\n",
              "</script> "
            ]
          },
          "metadata": {}
        },
        {
          "output_type": "stream",
          "name": "stdout",
          "text": [
            "Saving ISONE_grossload_metdata_spliced_23yr_EPT.csv to ISONE_grossload_metdata_spliced_23yr_EPT.csv\n"
          ]
        }
      ]
    },
    {
      "cell_type": "code",
      "source": [
        "#Step 2: Read the CSV file into a dataframe for management/cleaning.\n",
        "import pandas as pd\n",
        "df = pd.read_csv('ISONE_grossload_metdata_spliced_23yr_EPT.csv')\n",
        "\n",
        "#Step 3: Display the first few rows of the dataframe and confirm it is the right data.\n",
        "print(df.head())"
      ],
      "metadata": {
        "colab": {
          "base_uri": "https://localhost:8080/"
        },
        "id": "XkwjHKwEbhGA",
        "outputId": "d9362a95-07c5-4251-9907-b0c4e8812500"
      },
      "execution_count": null,
      "outputs": [
        {
          "output_type": "stream",
          "name": "stdout",
          "text": [
            "         Date  Hour_Ending  ISONE_grs_ld  ISONE_temp  ISONE_rh  ISONE_ghi  \\\n",
            "0  1999-12-31           20     13973.870       1.000    63.544        0.0   \n",
            "1  1999-12-31           21     15327.421      -1.728    58.923        0.0   \n",
            "2  1999-12-31           22     15840.597      -2.555    66.559        0.0   \n",
            "3  1999-12-31           23     15095.283      -2.888    63.212        0.0   \n",
            "4  1999-12-31           24     13747.394      -3.503    62.954        0.0   \n",
            "\n",
            "   ISONE_10m_lz_wnd_spd  ISONE_onsw_wnd_spd  ISONE_ofsw_wnd_spd  \n",
            "0                 1.528               7.405               4.824  \n",
            "1                 1.883               7.995               4.924  \n",
            "2                 2.344               7.448               5.243  \n",
            "3                 2.734               7.123               5.406  \n",
            "4                 2.997               6.831               5.574  \n"
          ]
        }
      ]
    },
    {
      "cell_type": "code",
      "source": [
        "#Step 4: Combine the grid load based on dates, sum the load for the same day!\n",
        "#We will use the groupby() function, and group the rows by day, summing over load column.\n",
        "#We will save this into a series, which will have the date as the index, and the load for each cummulative day as the value.\n",
        "gl = df.groupby('Date')['ISONE_grs_ld'].sum()\n",
        "\n",
        "#Now, create a new dataframe for the grid_load, similar to the wind_data from above.\n",
        "grid_load = pd.DataFrame()\n",
        "\n",
        "#Then, copy over the indexes (dates) and values (cummulative load) to the new data frame.\n",
        "grid_load['Date'] = gl.index.copy()\n",
        "grid_load['Load'] = gl.values.copy()\n",
        "\n",
        "#Ensure the date is in datetime format!\n",
        "grid_load['Date'] = pd.to_datetime(grid_load['Date'])\n",
        "\n",
        "#Print to make sure you have the data in the correct format!\n",
        "print(grid_load)"
      ],
      "metadata": {
        "colab": {
          "base_uri": "https://localhost:8080/"
        },
        "id": "pxovYUptdgZn",
        "outputId": "d4dbc9fb-a127-4c47-f182-c9c1f944e314"
      },
      "execution_count": null,
      "outputs": [
        {
          "output_type": "stream",
          "name": "stdout",
          "text": [
            "           Date        Load\n",
            "0    1999-12-31   73984.565\n",
            "1    2000-01-01  354832.061\n",
            "2    2000-01-02  349242.490\n",
            "3    2000-01-03  350583.444\n",
            "4    2000-01-04  345941.275\n",
            "...         ...         ...\n",
            "8398 2022-12-28  350730.536\n",
            "8399 2022-12-29  328251.077\n",
            "8400 2022-12-30  304037.998\n",
            "8401 2022-12-31  288181.831\n",
            "8402 2023-01-01   11102.659\n",
            "\n",
            "[8403 rows x 2 columns]\n"
          ]
        }
      ]
    },
    {
      "cell_type": "markdown",
      "source": [
        "**Part 3:** Read in and clean/format the solar resource data."
      ],
      "metadata": {
        "id": "IGuFiQPCQrD9"
      }
    },
    {
      "cell_type": "code",
      "source": [
        "#Step 1: Upload the load file when prompted, it should match the file listed below.\n",
        "from google.colab import files\n",
        "uploaded = files.upload()"
      ],
      "metadata": {
        "colab": {
          "base_uri": "https://localhost:8080/",
          "height": 73
        },
        "id": "WFl7gT06ULbc",
        "outputId": "d889d292-ec79-4844-fda6-60674792cf32"
      },
      "execution_count": null,
      "outputs": [
        {
          "output_type": "display_data",
          "data": {
            "text/plain": [
              "<IPython.core.display.HTML object>"
            ],
            "text/html": [
              "\n",
              "     <input type=\"file\" id=\"files-24a62716-7685-42dc-bafd-a2775c9e8a49\" name=\"files[]\" multiple disabled\n",
              "        style=\"border:none\" />\n",
              "     <output id=\"result-24a62716-7685-42dc-bafd-a2775c9e8a49\">\n",
              "      Upload widget is only available when the cell has been executed in the\n",
              "      current browser session. Please rerun this cell to enable.\n",
              "      </output>\n",
              "      <script>// Copyright 2017 Google LLC\n",
              "//\n",
              "// Licensed under the Apache License, Version 2.0 (the \"License\");\n",
              "// you may not use this file except in compliance with the License.\n",
              "// You may obtain a copy of the License at\n",
              "//\n",
              "//      http://www.apache.org/licenses/LICENSE-2.0\n",
              "//\n",
              "// Unless required by applicable law or agreed to in writing, software\n",
              "// distributed under the License is distributed on an \"AS IS\" BASIS,\n",
              "// WITHOUT WARRANTIES OR CONDITIONS OF ANY KIND, either express or implied.\n",
              "// See the License for the specific language governing permissions and\n",
              "// limitations under the License.\n",
              "\n",
              "/**\n",
              " * @fileoverview Helpers for google.colab Python module.\n",
              " */\n",
              "(function(scope) {\n",
              "function span(text, styleAttributes = {}) {\n",
              "  const element = document.createElement('span');\n",
              "  element.textContent = text;\n",
              "  for (const key of Object.keys(styleAttributes)) {\n",
              "    element.style[key] = styleAttributes[key];\n",
              "  }\n",
              "  return element;\n",
              "}\n",
              "\n",
              "// Max number of bytes which will be uploaded at a time.\n",
              "const MAX_PAYLOAD_SIZE = 100 * 1024;\n",
              "\n",
              "function _uploadFiles(inputId, outputId) {\n",
              "  const steps = uploadFilesStep(inputId, outputId);\n",
              "  const outputElement = document.getElementById(outputId);\n",
              "  // Cache steps on the outputElement to make it available for the next call\n",
              "  // to uploadFilesContinue from Python.\n",
              "  outputElement.steps = steps;\n",
              "\n",
              "  return _uploadFilesContinue(outputId);\n",
              "}\n",
              "\n",
              "// This is roughly an async generator (not supported in the browser yet),\n",
              "// where there are multiple asynchronous steps and the Python side is going\n",
              "// to poll for completion of each step.\n",
              "// This uses a Promise to block the python side on completion of each step,\n",
              "// then passes the result of the previous step as the input to the next step.\n",
              "function _uploadFilesContinue(outputId) {\n",
              "  const outputElement = document.getElementById(outputId);\n",
              "  const steps = outputElement.steps;\n",
              "\n",
              "  const next = steps.next(outputElement.lastPromiseValue);\n",
              "  return Promise.resolve(next.value.promise).then((value) => {\n",
              "    // Cache the last promise value to make it available to the next\n",
              "    // step of the generator.\n",
              "    outputElement.lastPromiseValue = value;\n",
              "    return next.value.response;\n",
              "  });\n",
              "}\n",
              "\n",
              "/**\n",
              " * Generator function which is called between each async step of the upload\n",
              " * process.\n",
              " * @param {string} inputId Element ID of the input file picker element.\n",
              " * @param {string} outputId Element ID of the output display.\n",
              " * @return {!Iterable<!Object>} Iterable of next steps.\n",
              " */\n",
              "function* uploadFilesStep(inputId, outputId) {\n",
              "  const inputElement = document.getElementById(inputId);\n",
              "  inputElement.disabled = false;\n",
              "\n",
              "  const outputElement = document.getElementById(outputId);\n",
              "  outputElement.innerHTML = '';\n",
              "\n",
              "  const pickedPromise = new Promise((resolve) => {\n",
              "    inputElement.addEventListener('change', (e) => {\n",
              "      resolve(e.target.files);\n",
              "    });\n",
              "  });\n",
              "\n",
              "  const cancel = document.createElement('button');\n",
              "  inputElement.parentElement.appendChild(cancel);\n",
              "  cancel.textContent = 'Cancel upload';\n",
              "  const cancelPromise = new Promise((resolve) => {\n",
              "    cancel.onclick = () => {\n",
              "      resolve(null);\n",
              "    };\n",
              "  });\n",
              "\n",
              "  // Wait for the user to pick the files.\n",
              "  const files = yield {\n",
              "    promise: Promise.race([pickedPromise, cancelPromise]),\n",
              "    response: {\n",
              "      action: 'starting',\n",
              "    }\n",
              "  };\n",
              "\n",
              "  cancel.remove();\n",
              "\n",
              "  // Disable the input element since further picks are not allowed.\n",
              "  inputElement.disabled = true;\n",
              "\n",
              "  if (!files) {\n",
              "    return {\n",
              "      response: {\n",
              "        action: 'complete',\n",
              "      }\n",
              "    };\n",
              "  }\n",
              "\n",
              "  for (const file of files) {\n",
              "    const li = document.createElement('li');\n",
              "    li.append(span(file.name, {fontWeight: 'bold'}));\n",
              "    li.append(span(\n",
              "        `(${file.type || 'n/a'}) - ${file.size} bytes, ` +\n",
              "        `last modified: ${\n",
              "            file.lastModifiedDate ? file.lastModifiedDate.toLocaleDateString() :\n",
              "                                    'n/a'} - `));\n",
              "    const percent = span('0% done');\n",
              "    li.appendChild(percent);\n",
              "\n",
              "    outputElement.appendChild(li);\n",
              "\n",
              "    const fileDataPromise = new Promise((resolve) => {\n",
              "      const reader = new FileReader();\n",
              "      reader.onload = (e) => {\n",
              "        resolve(e.target.result);\n",
              "      };\n",
              "      reader.readAsArrayBuffer(file);\n",
              "    });\n",
              "    // Wait for the data to be ready.\n",
              "    let fileData = yield {\n",
              "      promise: fileDataPromise,\n",
              "      response: {\n",
              "        action: 'continue',\n",
              "      }\n",
              "    };\n",
              "\n",
              "    // Use a chunked sending to avoid message size limits. See b/62115660.\n",
              "    let position = 0;\n",
              "    do {\n",
              "      const length = Math.min(fileData.byteLength - position, MAX_PAYLOAD_SIZE);\n",
              "      const chunk = new Uint8Array(fileData, position, length);\n",
              "      position += length;\n",
              "\n",
              "      const base64 = btoa(String.fromCharCode.apply(null, chunk));\n",
              "      yield {\n",
              "        response: {\n",
              "          action: 'append',\n",
              "          file: file.name,\n",
              "          data: base64,\n",
              "        },\n",
              "      };\n",
              "\n",
              "      let percentDone = fileData.byteLength === 0 ?\n",
              "          100 :\n",
              "          Math.round((position / fileData.byteLength) * 100);\n",
              "      percent.textContent = `${percentDone}% done`;\n",
              "\n",
              "    } while (position < fileData.byteLength);\n",
              "  }\n",
              "\n",
              "  // All done.\n",
              "  yield {\n",
              "    response: {\n",
              "      action: 'complete',\n",
              "    }\n",
              "  };\n",
              "}\n",
              "\n",
              "scope.google = scope.google || {};\n",
              "scope.google.colab = scope.google.colab || {};\n",
              "scope.google.colab._files = {\n",
              "  _uploadFiles,\n",
              "  _uploadFilesContinue,\n",
              "};\n",
              "})(self);\n",
              "</script> "
            ]
          },
          "metadata": {}
        },
        {
          "output_type": "stream",
          "name": "stdout",
          "text": [
            "Saving ISONE_solarcapacity_modeled_23yr_EPT.csv to ISONE_solarcapacity_modeled_23yr_EPT.csv\n"
          ]
        }
      ]
    },
    {
      "cell_type": "code",
      "source": [
        "#Step 2: Read the CSV file into a dataframe for management/cleaning.\n",
        "import pandas as pd\n",
        "df = pd.read_csv('ISONE_solarcapacity_modeled_23yr_EPT.csv', skiprows=1)\n",
        "\n",
        "#Read in the solar capacity that the CP values are based on.\n",
        "capacity = pd.read_csv('ISONE_solarcapacity_modeled_23yr_EPT.csv', nrows=0).columns[2] #in MW\n",
        "print(capacity)\n",
        "\n",
        "#Step 3: Display the first few rows of the dataframe and confirm it is the right data.\n",
        "print(df.head())"
      ],
      "metadata": {
        "colab": {
          "base_uri": "https://localhost:8080/"
        },
        "id": "glknDO09coKn",
        "outputId": "0f9d5be6-3a22-4096-db78-a7ac44a39354"
      },
      "execution_count": null,
      "outputs": [
        {
          "output_type": "stream",
          "name": "stdout",
          "text": [
            "11912.58\n",
            "         Date  Hour_Ending  ISONE_pv_pwr\n",
            "0  1999-12-31           20           0.0\n",
            "1  1999-12-31           21           0.0\n",
            "2  1999-12-31           22           0.0\n",
            "3  1999-12-31           23           0.0\n",
            "4  1999-12-31           24           0.0\n"
          ]
        }
      ]
    },
    {
      "cell_type": "code",
      "source": [
        "#Step 4: Combine the solar supply capacity factors based on dates, sum the solar supply for the same day!\n",
        "#We will use the groupby() function, and group the rows by day, summing over the power column.\n",
        "#We will save this into a series, which will have the date as the index, and the supply for each cummulative day as the value.\n",
        "pv = df.groupby('Date')['ISONE_pv_pwr'].sum()\n",
        "\n",
        "#Now, create a new dataframe for the pv power, similar to the grid_load from above.\n",
        "pv_power = pd.DataFrame()\n",
        "\n",
        "#Then, copy over the indexes (dates) and values (solar CP sums) to the new data frame.\n",
        "pv_power['Date'] = pv.index.copy()\n",
        "pv_power['Solar Power'] = pv.values.copy() * float(capacity) #Gives total MW at each timestamp\n",
        "\n",
        "#Ensure the date is in datetime format!\n",
        "pv_power['Date'] = pd.to_datetime(pv_power['Date'])\n",
        "\n",
        "#Print to make sure you have the data in the correct format!\n",
        "print(pv_power)\n"
      ],
      "metadata": {
        "colab": {
          "base_uri": "https://localhost:8080/"
        },
        "id": "bzqlT0OcNQof",
        "outputId": "07f4153d-cc3f-4524-93a5-a1b7d9642c38"
      },
      "execution_count": null,
      "outputs": [
        {
          "output_type": "stream",
          "name": "stdout",
          "text": [
            "           Date   Solar Power\n",
            "0    1999-12-31      0.000000\n",
            "1    2000-01-01  20361.732229\n",
            "2    2000-01-02   7144.188652\n",
            "3    2000-01-03  10347.255075\n",
            "4    2000-01-04   2352.210396\n",
            "...         ...           ...\n",
            "8398 2022-12-28  16659.481053\n",
            "8399 2022-12-29  26407.509530\n",
            "8400 2022-12-30  25915.662926\n",
            "8401 2022-12-31   3821.889216\n",
            "8402 2023-01-01      0.000000\n",
            "\n",
            "[8403 rows x 2 columns]\n"
          ]
        }
      ]
    },
    {
      "cell_type": "markdown",
      "source": [
        "**Part 4:** Combine our 3 new dataframes so that they share a date column."
      ],
      "metadata": {
        "id": "DpFSxG8btDPk"
      }
    },
    {
      "cell_type": "code",
      "source": [
        "#Step 1: Use the merge function, provided by Pandas, to combine the three dataframes in two steps.\n",
        "wind_solar_load_data = pd.merge(grid_load, wind_data, on = \"Date\", how = \"left\")\n",
        "wind_solar_load_data = pd.merge(wind_solar_load_data, pv_power, on = \"Date\", how = \"left\")\n",
        "#Print to ensure we have gotten it right!\n",
        "print(wind_solar_load_data)"
      ],
      "metadata": {
        "colab": {
          "base_uri": "https://localhost:8080/"
        },
        "id": "IaJv2gcKuEKE",
        "outputId": "1218aec7-ca5a-4a0d-fda1-92f471c5e800"
      },
      "execution_count": null,
      "outputs": [
        {
          "output_type": "stream",
          "name": "stdout",
          "text": [
            "           Date        Load  Net CP for Turbines   Solar Power\n",
            "0    1999-12-31   73984.565                  NaN      0.000000\n",
            "1    2000-01-01  354832.061              11.9738  20361.732229\n",
            "2    2000-01-02  349242.490              16.2638   7144.188652\n",
            "3    2000-01-03  350583.444              15.3354  10347.255075\n",
            "4    2000-01-04  345941.275              19.2895   2352.210396\n",
            "...         ...         ...                  ...           ...\n",
            "8398 2022-12-28  350730.536               9.0555  16659.481053\n",
            "8399 2022-12-29  328251.077              14.4821  26407.509530\n",
            "8400 2022-12-30  304037.998              14.4530  25915.662926\n",
            "8401 2022-12-31  288181.831              13.8022   3821.889216\n",
            "8402 2023-01-01   11102.659                  NaN      0.000000\n",
            "\n",
            "[8403 rows x 4 columns]\n"
          ]
        }
      ]
    },
    {
      "cell_type": "markdown",
      "source": [
        "**Part 5:** Select which year and months on which to perform analysis!"
      ],
      "metadata": {
        "id": "Kgd5M2dqxRok"
      }
    },
    {
      "cell_type": "code",
      "source": [
        "#Step 1: Choose the two winter years you want to focus on.\n",
        "winter_year_one = 2021 #Dec year!\n",
        "winter_year_two = 2022 #Jan + Feb year!\n",
        "\n",
        "#Step 2: Select a year and 3 months that we want to look at for the analysis.\n",
        "analysis_data = wind_solar_load_data.loc[((wind_solar_load_data['Date'].dt.year == winter_year_one) & (wind_solar_load_data['Date'].dt.month == 12)) | ((wind_solar_load_data['Date'].dt.year == winter_year_two) & ((wind_solar_load_data['Date'].dt.month == 1) | (wind_solar_load_data['Date'].dt.month == 2)))]\n",
        "\n",
        "#By printing, we can see that it has only pulled out these rows!\n",
        "print(analysis_data)"
      ],
      "metadata": {
        "colab": {
          "base_uri": "https://localhost:8080/"
        },
        "id": "3YLdIOpvOIqd",
        "outputId": "e5a6530e-2131-4b35-ca57-3ddd2dae485d"
      },
      "execution_count": null,
      "outputs": [
        {
          "output_type": "stream",
          "name": "stdout",
          "text": [
            "           Date        Load  Net CP for Turbines   Solar Power\n",
            "8006 2021-12-01  334517.947               9.9793  20882.228586\n",
            "8007 2021-12-02  324667.943              17.2016  12007.797252\n",
            "8008 2021-12-03  325541.509              20.9622  27099.689990\n",
            "8009 2021-12-04  322883.937               6.8030  19686.098341\n",
            "8010 2021-12-05  311559.593               5.4686  23965.359154\n",
            "...         ...         ...                  ...           ...\n",
            "8091 2022-02-24  351233.043               8.5135  13756.933286\n",
            "8092 2022-02-25  360815.442              15.7106   9256.741764\n",
            "8093 2022-02-26  342560.739               7.9260  23762.082889\n",
            "8094 2022-02-27  328842.694              18.3442  42069.645560\n",
            "8095 2022-02-28  359428.934              15.2274  48200.550158\n",
            "\n",
            "[90 rows x 4 columns]\n"
          ]
        }
      ]
    },
    {
      "cell_type": "markdown",
      "source": [
        "**Part 6:** Add in different total turbine installation capacities to determine the potential generation from various NE OSW projects. Subtract different turbine capacities as well as the calculated solar capacity from the load."
      ],
      "metadata": {
        "id": "PbBXbQi_QHbF"
      }
    },
    {
      "cell_type": "code",
      "source": [
        "#Step 1: Add different turbine capacities.\n",
        "analysis_data['Load - 1500MW Turbine'] = analysis_data['Load'] - (analysis_data['Net CP for Turbines'] * 1500)\n",
        "analysis_data['Load - 4000MW Turbine'] = analysis_data['Load'] - (analysis_data['Net CP for Turbines'] * 4000)\n",
        "analysis_data['Load - 8000MW Turbine'] = analysis_data['Load'] - (analysis_data['Net CP for Turbines'] * 8000)\n",
        "\n",
        "analysis_data[\"Load - 1500MW Turbine - Solar\"] = analysis_data[\"Load - 1500MW Turbine\"] - analysis_data[\"Solar Power\"]\n",
        "analysis_data[\"Load - 4000MW Turbine - Solar\"] = analysis_data[\"Load - 4000MW Turbine\"] - analysis_data[\"Solar Power\"]\n",
        "analysis_data[\"Load - 8000MW Turbine - Solar\"] = analysis_data[\"Load - 8000MW Turbine\"] - analysis_data[\"Solar Power\"]\n",
        "\n",
        "#Step 2: Remove the old net capacity column as we no longer need it.\n",
        "analysis_data = analysis_data.drop(columns = ['Net CP for Turbines'])\n",
        "analysis_data = analysis_data.drop(columns = ['Solar Power'])\n",
        "\n",
        "#Step 3: Print to make sure we have the right data!\n",
        "print(analysis_data)\n",
        "\n",
        "#You can safely ignore any warnings about \"a value trying to be set on a copy of a slice\"."
      ],
      "metadata": {
        "colab": {
          "base_uri": "https://localhost:8080/"
        },
        "id": "5ErrgVJV6Loj",
        "outputId": "d1c16891-be3f-4c6f-dc82-3858b819eb97"
      },
      "execution_count": null,
      "outputs": [
        {
          "output_type": "stream",
          "name": "stdout",
          "text": [
            "           Date        Load  Load - 1500MW Turbine  Load - 4000MW Turbine  \\\n",
            "8006 2021-12-01  334517.947             319548.997             294600.747   \n",
            "8007 2021-12-02  324667.943             298865.543             255861.543   \n",
            "8008 2021-12-03  325541.509             294098.209             241692.709   \n",
            "8009 2021-12-04  322883.937             312679.437             295671.937   \n",
            "8010 2021-12-05  311559.593             303356.693             289685.193   \n",
            "...         ...         ...                    ...                    ...   \n",
            "8091 2022-02-24  351233.043             338462.793             317179.043   \n",
            "8092 2022-02-25  360815.442             337249.542             297973.042   \n",
            "8093 2022-02-26  342560.739             330671.739             310856.739   \n",
            "8094 2022-02-27  328842.694             301326.394             255465.894   \n",
            "8095 2022-02-28  359428.934             336587.834             298519.334   \n",
            "\n",
            "      Load - 8000MW Turbine  Load - 1500MW Turbine - Solar  \\\n",
            "8006             254683.547                  298666.768414   \n",
            "8007             187055.143                  286857.745748   \n",
            "8008             157843.909                  266998.519010   \n",
            "8009             268459.937                  292993.338659   \n",
            "8010             267810.793                  279391.333846   \n",
            "...                     ...                            ...   \n",
            "8091             283125.043                  324705.859714   \n",
            "8092             235130.642                  327992.800236   \n",
            "8093             279152.739                  306909.656111   \n",
            "8094             182089.094                  259256.748440   \n",
            "8095             237609.734                  288387.283842   \n",
            "\n",
            "      Load - 4000MW Turbine - Solar  Load - 8000MW Turbine - Solar  \n",
            "8006                  273718.518414                  233801.318414  \n",
            "8007                  243853.745748                  175047.345748  \n",
            "8008                  214593.019010                  130744.219010  \n",
            "8009                  275985.838659                  248773.838659  \n",
            "8010                  265719.833846                  243845.433846  \n",
            "...                             ...                            ...  \n",
            "8091                  303422.109714                  269368.109714  \n",
            "8092                  288716.300236                  225873.900236  \n",
            "8093                  287094.656111                  255390.656111  \n",
            "8094                  213396.248440                  140019.448440  \n",
            "8095                  250318.783842                  189409.183842  \n",
            "\n",
            "[90 rows x 8 columns]\n"
          ]
        },
        {
          "output_type": "stream",
          "name": "stderr",
          "text": [
            "<ipython-input-12-1efeb6f6c2bf>:2: SettingWithCopyWarning: \n",
            "A value is trying to be set on a copy of a slice from a DataFrame.\n",
            "Try using .loc[row_indexer,col_indexer] = value instead\n",
            "\n",
            "See the caveats in the documentation: https://pandas.pydata.org/pandas-docs/stable/user_guide/indexing.html#returning-a-view-versus-a-copy\n",
            "  analysis_data['Load - 1500MW Turbine'] = analysis_data['Load'] - (analysis_data['Net CP for Turbines'] * 1500)\n",
            "<ipython-input-12-1efeb6f6c2bf>:3: SettingWithCopyWarning: \n",
            "A value is trying to be set on a copy of a slice from a DataFrame.\n",
            "Try using .loc[row_indexer,col_indexer] = value instead\n",
            "\n",
            "See the caveats in the documentation: https://pandas.pydata.org/pandas-docs/stable/user_guide/indexing.html#returning-a-view-versus-a-copy\n",
            "  analysis_data['Load - 4000MW Turbine'] = analysis_data['Load'] - (analysis_data['Net CP for Turbines'] * 4000)\n",
            "<ipython-input-12-1efeb6f6c2bf>:4: SettingWithCopyWarning: \n",
            "A value is trying to be set on a copy of a slice from a DataFrame.\n",
            "Try using .loc[row_indexer,col_indexer] = value instead\n",
            "\n",
            "See the caveats in the documentation: https://pandas.pydata.org/pandas-docs/stable/user_guide/indexing.html#returning-a-view-versus-a-copy\n",
            "  analysis_data['Load - 8000MW Turbine'] = analysis_data['Load'] - (analysis_data['Net CP for Turbines'] * 8000)\n",
            "<ipython-input-12-1efeb6f6c2bf>:6: SettingWithCopyWarning: \n",
            "A value is trying to be set on a copy of a slice from a DataFrame.\n",
            "Try using .loc[row_indexer,col_indexer] = value instead\n",
            "\n",
            "See the caveats in the documentation: https://pandas.pydata.org/pandas-docs/stable/user_guide/indexing.html#returning-a-view-versus-a-copy\n",
            "  analysis_data[\"Load - 1500MW Turbine - Solar\"] = analysis_data[\"Load - 1500MW Turbine\"] - analysis_data[\"Solar Power\"]\n",
            "<ipython-input-12-1efeb6f6c2bf>:7: SettingWithCopyWarning: \n",
            "A value is trying to be set on a copy of a slice from a DataFrame.\n",
            "Try using .loc[row_indexer,col_indexer] = value instead\n",
            "\n",
            "See the caveats in the documentation: https://pandas.pydata.org/pandas-docs/stable/user_guide/indexing.html#returning-a-view-versus-a-copy\n",
            "  analysis_data[\"Load - 4000MW Turbine - Solar\"] = analysis_data[\"Load - 4000MW Turbine\"] - analysis_data[\"Solar Power\"]\n",
            "<ipython-input-12-1efeb6f6c2bf>:8: SettingWithCopyWarning: \n",
            "A value is trying to be set on a copy of a slice from a DataFrame.\n",
            "Try using .loc[row_indexer,col_indexer] = value instead\n",
            "\n",
            "See the caveats in the documentation: https://pandas.pydata.org/pandas-docs/stable/user_guide/indexing.html#returning-a-view-versus-a-copy\n",
            "  analysis_data[\"Load - 8000MW Turbine - Solar\"] = analysis_data[\"Load - 8000MW Turbine\"] - analysis_data[\"Solar Power\"]\n"
          ]
        }
      ]
    },
    {
      "cell_type": "markdown",
      "source": [
        "**Part 7:** Plot the data!"
      ],
      "metadata": {
        "id": "ETldRcuCUnjn"
      }
    },
    {
      "cell_type": "code",
      "source": [
        "#Step 1: Import matplotlib as the plotting tool to use!\n",
        "import matplotlib.pyplot as plt\n",
        "\n",
        "#Step 2: Define a figure and axis.\n",
        "fig, ax = plt.subplots()\n",
        "\n",
        "#Step 3: Plot the data! Here we have the date on the x axis, with load on the y-axis.\n",
        "ax.plot(analysis_data['Date'], analysis_data['Load'], label = 'Load')\n",
        "ax.plot(analysis_data['Date'], analysis_data['Load - 1500MW Turbine - Solar'], label = 'Load - 1500MW Turbine - Solar')\n",
        "ax.plot(analysis_data['Date'], analysis_data['Load - 4000MW Turbine - Solar'], label = 'Load - 4000MW Turbine - Solar')\n",
        "ax.plot(analysis_data['Date'], analysis_data['Load - 8000MW Turbine - Solar'], label = 'Load - 8000MW Turbine - Solar')\n",
        "\n",
        "#Step 4: Label the both the x and y axis\n",
        "ax.set_xlabel('Date')\n",
        "ax.set_ylabel('Load (MW)')\n",
        "\n",
        "#Step 5: Set the x and y axis limits.\n",
        "ax.set_ylim(ymin=0, ymax=500000)\n",
        "\n",
        "#Step 6: Rotate the x axis time labels for better fit within the figure.\n",
        "plt.xticks(rotation=50)\n",
        "\n",
        "#Step 7: Define the risk regions.\n",
        "plt.fill_between(analysis_data['Date'], 350000, 400000, color='yellow', alpha=0.5, linewidth = 0.0, label='Elevated Risk')\n",
        "plt.fill_between(analysis_data['Date'], 400000, 450000, color='orange', alpha=0.5, linewidth = 0.0, label='High Risk')\n",
        "plt.fill_between(analysis_data['Date'], 450000, 500000, color='red', alpha=0.5, linewidth = 0.0, label='Higher Risk')\n",
        "\n",
        "#Step 8: Create the legend and show the plot!\n",
        "plt.legend(bbox_to_anchor=(1,1), loc=\"upper left\")\n",
        "plt.show()"
      ],
      "metadata": {
        "colab": {
          "base_uri": "https://localhost:8080/",
          "height": 511
        },
        "id": "A7XJjhll6rXP",
        "outputId": "4435a12b-af8a-4ed2-d7c0-2c7cc749889d"
      },
      "execution_count": null,
      "outputs": [
        {
          "output_type": "display_data",
          "data": {
            "text/plain": [
              "<Figure size 640x480 with 1 Axes>"
            ],
            "image/png": "[encoded data removed]"
          },
          "metadata": {}
        }
      ]
    },
    {
      "cell_type": "code",
      "source": [
        "#Step 9.1: Print the number of days with elevated risk\n",
        "print(\"Days of Elevated Risk or greater with no turbines: \", analysis_data[(analysis_data[\"Load\"] > 350000)].shape[0])\n",
        "print(\"Days of Elevated Risk or greater with 1500 MW of turbines and current solar capacity: \", analysis_data[(analysis_data[\"Load - 1500MW Turbine - Solar\"] > 350000)].shape[0])\n",
        "print(\"Days of Elevated Risk or greater with 4000 MW of turbines and current solar capacity: \", analysis_data[(analysis_data[\"Load - 4000MW Turbine - Solar\"] > 350000)].shape[0])\n",
        "print(\"Days of Elevated Risk or greater with 8000 MW of turbines and current solar capacity: \", analysis_data[(analysis_data[\"Load - 8000MW Turbine - Solar\"] > 350000)].shape[0])"
      ],
      "metadata": {
        "id": "mkzVMjMA7IFD",
        "colab": {
          "base_uri": "https://localhost:8080/"
        },
        "outputId": "1db0ace9-80c9-4312-ce49-4f9335ca8571"
      },
      "execution_count": null,
      "outputs": [
        {
          "output_type": "stream",
          "name": "stdout",
          "text": [
            "Days of Elevated Risk or greater with no turbines:  45\n",
            "Days of Elevated Risk or greater with 1500 MW of turbines and current solar capacity:  4\n",
            "Days of Elevated Risk or greater with 4000 MW of turbines and current solar capacity:  1\n",
            "Days of Elevated Risk or greater with 8000 MW of turbines and current solar capacity:  0\n"
          ]
        }
      ]
    },
    {
      "cell_type": "markdown",
      "source": [
        "**Part 8:** Loop over all potential years to determine average number of days with elevated risk and plot this data!"
      ],
      "metadata": {
        "id": "iELjSeB7UDB5"
      }
    },
    {
      "cell_type": "code",
      "source": [
        "import warnings\n",
        "warnings.filterwarnings(\"ignore\")\n",
        "\n",
        "#Step 1: Create a dataframe for the elevated risk data.\n",
        "elevated_risk = pd.DataFrame(columns=['Year Range', 'No Turbines', '1500MW Turbine Capacity + Installed Solar', '4000 MW Turbine Capacity + Installed Solar', '8000 MW Turbine Capacity + Installed Solar'])\n",
        "\n",
        "years_min=2000\n",
        "years_max = 2022\n",
        "\n",
        "i = years_min\n",
        "while i < years_max:\n",
        "  winter_year_one = i\n",
        "  winter_year_two = i+1\n",
        "  analysis_data = wind_solar_load_data.loc[((wind_solar_load_data['Date'].dt.year == winter_year_one) & (wind_solar_load_data['Date'].dt.month == 12)) | ((wind_solar_load_data['Date'].dt.year == winter_year_two) & ((wind_solar_load_data['Date'].dt.month == 1) | (wind_solar_load_data['Date'].dt.month == 2)))]\n",
        "  analysis_data['Load - 1500MW Turbine'] = analysis_data['Load'] - (analysis_data['Net CP for Turbines'] * 1500)\n",
        "  analysis_data['Load - 4000MW Turbine'] = analysis_data['Load'] - (analysis_data['Net CP for Turbines'] * 4000)\n",
        "  analysis_data['Load - 8000MW Turbine'] = analysis_data['Load'] - (analysis_data['Net CP for Turbines'] * 8000)\n",
        "  analysis_data[\"Load - 1500MW Turbine - Solar\"] = analysis_data[\"Load - 1500MW Turbine\"] - analysis_data[\"Solar Power\"]\n",
        "  analysis_data[\"Load - 4000MW Turbine - Solar\"] = analysis_data[\"Load - 4000MW Turbine\"] - analysis_data[\"Solar Power\"]\n",
        "  analysis_data[\"Load - 8000MW Turbine - Solar\"] = analysis_data[\"Load - 8000MW Turbine\"] - analysis_data[\"Solar Power\"]\n",
        "  analysis_data = analysis_data.drop(columns = ['Net CP for Turbines'])\n",
        "  analysis_data = analysis_data.drop(columns = ['Solar Power'])\n",
        "  elevated_risk.loc[i - years_min] = [str(winter_year_one)+\"-\"+str(winter_year_two), analysis_data[analysis_data[\"Load\"] > 350000].shape[0], analysis_data[(analysis_data[\"Load - 1500MW Turbine - Solar\"] > 350000)].shape[0], analysis_data[(analysis_data[\"Load - 4000MW Turbine - Solar\"] > 350000)].shape[0], analysis_data[analysis_data[\"Load - 8000MW Turbine - Solar\"] > 350000].shape[0]]\n",
        "  i+=1\n",
        "\n",
        "\n",
        "fig, axes = plt.subplots(nrows=1, ncols=4, figsize=(15, 5), sharey=True)\n",
        "axes[0].bar(elevated_risk['Year Range'], elevated_risk['No Turbines'], label='Days of Elevated Risk without Turbines')\n",
        "axes[1].bar(elevated_risk['Year Range'], elevated_risk['1500MW Turbine Capacity + Installed Solar'], label='Days of Elevated Risk with 1500MW of Turbine Capacity and Installed Solar')\n",
        "axes[2].bar(elevated_risk['Year Range'], elevated_risk['4000 MW Turbine Capacity + Installed Solar'], label='Days of Elevated Risk with 4000MW of Turbine Capacity and Installed Solar')\n",
        "axes[3].bar(elevated_risk['Year Range'], elevated_risk['8000 MW Turbine Capacity + Installed Solar'], label='Days of Elevated Risk with 8000MW of Turbine Capacity and Installed Solar')\n",
        "\n",
        "axes[0].tick_params(labelrotation=90)\n",
        "axes[1].tick_params(labelrotation=90)\n",
        "axes[2].tick_params(labelrotation=90)\n",
        "axes[3].tick_params(labelrotation=90)\n",
        "\n",
        "plt.suptitle(\"Days with Elevated Risk\")\n",
        "axes[0].set_title('No Turbines')\n",
        "axes[1].set_title('1500MW Turbine Capacity with Solar')\n",
        "axes[2].set_title('4000MW Turbine Capacity with Solar')\n",
        "axes[3].set_title('8000MW Turbine Capacity with Solar')\n",
        "\n",
        "plt.tight_layout()\n",
        "plt.show()"
      ],
      "metadata": {
        "id": "0eWJOLbMDytL",
        "colab": {
          "base_uri": "https://localhost:8080/",
          "height": 385
        },
        "outputId": "24ce0504-c7a7-43a9-eb47-1cdff905efa5"
      },
      "execution_count": null,
      "outputs": [
        {
          "output_type": "display_data",
          "data": {
            "text/plain": [
              "<Figure size 1500x500 with 4 Axes>"
            ],
            "image/png": "[encoded data removed]"
          },
          "metadata": {}
        }
      ]
    }
  ]
}